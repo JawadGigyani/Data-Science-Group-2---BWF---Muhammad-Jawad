{
 "cells": [
  {
   "cell_type": "code",
   "execution_count": 107,
   "id": "99b0c8ba-e2de-4745-943c-757d1c40d95d",
   "metadata": {},
   "outputs": [],
   "source": [
    "import numpy as np"
   ]
  },
  {
   "cell_type": "markdown",
   "id": "6a8cdd11-b780-4e5b-8f8e-49e5a2361952",
   "metadata": {},
   "source": [
    "# Linear Algebra Tasks"
   ]
  },
  {
   "cell_type": "markdown",
   "id": "d2ac044f-6dad-4fac-961a-56314c92be9c",
   "metadata": {},
   "source": [
    "## 1. Matrix Creation and Manipulation"
   ]
  },
  {
   "cell_type": "markdown",
   "id": "e0337a37-46fa-41a5-a21b-5dc245ebb983",
   "metadata": {},
   "source": [
    "### Create various types of matrices (zero matrix, identity matrix, random matrix)."
   ]
  },
  {
   "cell_type": "code",
   "execution_count": 108,
   "id": "22b11d00-cb0c-4a39-bc03-2bc4eff8d5ba",
   "metadata": {},
   "outputs": [],
   "source": [
    "zero_matrix = np.zeros((3, 3))\n",
    "\n",
    "identity_matrix = np.eye(3)\n",
    "\n",
    "random_matrix = np.random.rand(3, 3)"
   ]
  },
  {
   "cell_type": "code",
   "execution_count": 109,
   "id": "da9ff0bc-feb7-47fd-9acb-e1aee8ca6bec",
   "metadata": {},
   "outputs": [
    {
     "name": "stdout",
     "output_type": "stream",
     "text": [
      "[[0. 0. 0.]\n",
      " [0. 0. 0.]\n",
      " [0. 0. 0.]] \n",
      "\n",
      "[[1. 0. 0.]\n",
      " [0. 1. 0.]\n",
      " [0. 0. 1.]] \n",
      "\n",
      "[[0.8135294  0.6171321  0.11935668]\n",
      " [0.01272232 0.55052738 0.48300081]\n",
      " [0.43364224 0.5035375  0.14724361]]\n"
     ]
    }
   ],
   "source": [
    "print(zero_matrix, '\\n')\n",
    "print(identity_matrix, '\\n')\n",
    "print(random_matrix)"
   ]
  },
  {
   "cell_type": "markdown",
   "id": "b1a0333a-4c23-4cd3-ade9-9ad624f23267",
   "metadata": {},
   "source": [
    "### Perform basic matrix operations (addition, subtraction, multiplication)."
   ]
  },
  {
   "cell_type": "code",
   "execution_count": 110,
   "id": "b4bcbba1-a7d0-468b-8880-c896393c828f",
   "metadata": {},
   "outputs": [],
   "source": [
    "matrix_sum = zero_matrix + identity_matrix\n",
    "\n",
    "matrix_diff = identity_matrix - zero_matrix\n",
    "\n",
    "matrix_product = random_matrix * 2\n",
    "\n",
    "matrix_div = identity_matrix / 2"
   ]
  },
  {
   "cell_type": "code",
   "execution_count": 111,
   "id": "d49daf29-fec6-4c0a-aeee-7e1ec7826543",
   "metadata": {},
   "outputs": [
    {
     "data": {
      "text/plain": [
       "(array([[1., 0., 0.],\n",
       "        [0., 1., 0.],\n",
       "        [0., 0., 1.]]),\n",
       " array([[1., 0., 0.],\n",
       "        [0., 1., 0.],\n",
       "        [0., 0., 1.]]),\n",
       " array([[1.6270588 , 1.23426421, 0.23871336],\n",
       "        [0.02544464, 1.10105476, 0.96600162],\n",
       "        [0.86728447, 1.00707499, 0.29448722]]),\n",
       " array([[0.5, 0. , 0. ],\n",
       "        [0. , 0.5, 0. ],\n",
       "        [0. , 0. , 0.5]]))"
      ]
     },
     "execution_count": 111,
     "metadata": {},
     "output_type": "execute_result"
    }
   ],
   "source": [
    "matrix_sum, matrix_diff, matrix_product, matrix_div"
   ]
  },
  {
   "cell_type": "markdown",
   "id": "c0aa3f85-f0df-4667-a0f6-35fce759cf94",
   "metadata": {},
   "source": [
    "### Transpose a matrix and find the determinant and inverse of a matrix."
   ]
  },
  {
   "cell_type": "code",
   "execution_count": 112,
   "id": "1f184e6f-2a82-42c5-9e6f-016904f28984",
   "metadata": {},
   "outputs": [],
   "source": [
    "transposed_matrix = np.transpose(random_matrix)\n",
    "\n",
    "determinant = np.linalg.det(random_matrix)\n",
    "\n",
    "inverse_matrix = np.linalg.inv(random_matrix)"
   ]
  },
  {
   "cell_type": "code",
   "execution_count": 113,
   "id": "7d649311-e730-4386-b887-49f2175e2081",
   "metadata": {},
   "outputs": [
    {
     "name": "stdout",
     "output_type": "stream",
     "text": [
      "Transpose\n",
      "[[0.8135294  0.01272232 0.43364224]\n",
      " [0.6171321  0.55052738 0.5035375 ]\n",
      " [0.11935668 0.48300081 0.14724361]]\n",
      "\n",
      "Determinant\n",
      "-0.03153931092976692\n",
      "\n",
      "Inverse\n",
      "[[  5.14111996   0.97555063  -7.36750998]\n",
      " [ -6.58150942  -2.15695604  12.41044447]\n",
      " [  7.36622813   4.50320586 -13.95144168]]\n"
     ]
    }
   ],
   "source": [
    "print(\"Transpose\")\n",
    "print(transposed_matrix)\n",
    "\n",
    "print(\"\\nDeterminant\")\n",
    "print(determinant)\n",
    "\n",
    "print(\"\\nInverse\")\n",
    "print(inverse_matrix)"
   ]
  },
  {
   "cell_type": "markdown",
   "id": "cd6bb425-93c8-4c41-a140-72e873642402",
   "metadata": {},
   "source": [
    "## 2. Solving Linear Equations"
   ]
  },
  {
   "cell_type": "markdown",
   "id": "f0665ec4-f068-44b4-acc1-a01a683deb83",
   "metadata": {},
   "source": [
    "### Use NumPy to solve a system of linear equations."
   ]
  },
  {
   "cell_type": "code",
   "execution_count": 114,
   "id": "f47d6269-200a-4514-b1dd-893c4c294947",
   "metadata": {},
   "outputs": [
    {
     "data": {
      "text/plain": [
       "array([2., 3.])"
      ]
     },
     "execution_count": 114,
     "metadata": {},
     "output_type": "execute_result"
    }
   ],
   "source": [
    "A = np.array([[3, 1], [1, 2]])\n",
    "\n",
    "b = np.array([9, 8])\n",
    "\n",
    "solution = np.linalg.solve(A, b)\n",
    "solution"
   ]
  },
  {
   "cell_type": "markdown",
   "id": "859556e1-c1ff-43b0-ab66-3c288b784eb3",
   "metadata": {},
   "source": [
    "### Implement matrix factorization methods (LU decomposition, QR decomposition)."
   ]
  },
  {
   "cell_type": "code",
   "execution_count": 115,
   "id": "5f872ffe-70f4-4c09-9dbe-a94caf12fef2",
   "metadata": {},
   "outputs": [
    {
     "data": {
      "text/plain": [
       "((array([[1., 0.],\n",
       "         [0., 1.]]),\n",
       "  array([[1.        , 0.        ],\n",
       "         [0.33333333, 1.        ]]),\n",
       "  array([[3.        , 1.        ],\n",
       "         [0.        , 1.66666667]])),\n",
       " array([[3, 1],\n",
       "        [1, 2]]))"
      ]
     },
     "execution_count": 115,
     "metadata": {},
     "output_type": "execute_result"
    }
   ],
   "source": [
    "# LU decomposition\n",
    "from scipy.linalg import lu\n",
    "\n",
    "P, L, U = lu(A)\n",
    "\n",
    "(P, L, U), A"
   ]
  },
  {
   "cell_type": "code",
   "execution_count": 116,
   "id": "c3a6fdf9-0230-4191-98b1-ac53a282df58",
   "metadata": {},
   "outputs": [
    {
     "data": {
      "text/plain": [
       "((array([[1., 0.],\n",
       "         [0., 1.]]),\n",
       "  array([[1.        , 0.        ],\n",
       "         [0.33333333, 1.        ]]),\n",
       "  array([[3.        , 1.        ],\n",
       "         [0.        , 1.66666667]])),\n",
       " (array([[-0.9486833 , -0.31622777],\n",
       "         [-0.31622777,  0.9486833 ]]),\n",
       "  array([[-3.16227766, -1.58113883],\n",
       "         [ 0.        ,  1.58113883]])))"
      ]
     },
     "execution_count": 116,
     "metadata": {},
     "output_type": "execute_result"
    }
   ],
   "source": [
    "# QR decomposition\n",
    "Q, R = np.linalg.qr(A)\n",
    "\n",
    "(P, L, U), (Q, R)"
   ]
  },
  {
   "cell_type": "markdown",
   "id": "a12abcec-3407-43a5-b929-02c0af60a70c",
   "metadata": {},
   "source": [
    "## 3. Eigenvalues and Eigenvectors"
   ]
  },
  {
   "cell_type": "markdown",
   "id": "689d8dba-9120-4d43-bcfa-c5f509b6fad7",
   "metadata": {},
   "source": [
    "### Calculate the eigenvalues and eigenvectors of a given matrix."
   ]
  },
  {
   "cell_type": "code",
   "execution_count": 117,
   "id": "8dee1449-d8d6-4125-a1c0-49ba9f45fb2e",
   "metadata": {},
   "outputs": [
    {
     "data": {
      "text/plain": [
       "(array([3.61803399, 1.38196601]),\n",
       " array([[ 0.85065081, -0.52573111],\n",
       "        [ 0.52573111,  0.85065081]]))"
      ]
     },
     "execution_count": 117,
     "metadata": {},
     "output_type": "execute_result"
    }
   ],
   "source": [
    "eigenvalues, eigenvectors = np.linalg.eig(A)\n",
    "\n",
    "eigenvalues, eigenvectors"
   ]
  },
  {
   "cell_type": "markdown",
   "id": "075dc652-6525-463c-b224-d09fbc589d7c",
   "metadata": {},
   "source": [
    "### Verify the results by reconstructing the original matrix."
   ]
  },
  {
   "cell_type": "code",
   "execution_count": 118,
   "id": "c1de7c8f-7299-4d9b-8b72-32abf03a1a72",
   "metadata": {},
   "outputs": [
    {
     "data": {
      "text/plain": [
       "True"
      ]
     },
     "execution_count": 118,
     "metadata": {},
     "output_type": "execute_result"
    }
   ],
   "source": [
    "reconstructed_matrix = np.dot(eigenvectors, np.dot(np.diag(eigenvalues), np.linalg.inv(eigenvectors)))\n",
    "\n",
    "np.allclose(A, reconstructed_matrix)"
   ]
  },
  {
   "cell_type": "code",
   "execution_count": 119,
   "id": "802129f1-2bc1-47ca-ae78-70fcc6e6515d",
   "metadata": {},
   "outputs": [
    {
     "data": {
      "text/plain": [
       "(array([[3, 1],\n",
       "        [1, 2]]),\n",
       " array([[3., 1.],\n",
       "        [1., 2.]]))"
      ]
     },
     "execution_count": 119,
     "metadata": {},
     "output_type": "execute_result"
    }
   ],
   "source": [
    "A, reconstructed_matrix"
   ]
  },
  {
   "cell_type": "markdown",
   "id": "afde0d6f-943d-4cfd-9776-47a445a7d3b5",
   "metadata": {},
   "source": [
    "## 4. Vector Operations"
   ]
  },
  {
   "cell_type": "markdown",
   "id": "c4d96b13-5ed7-479e-bdba-b98b8874b0fb",
   "metadata": {},
   "source": [
    "### Perform basic vector operations (addition, dot product, cross product)."
   ]
  },
  {
   "cell_type": "code",
   "execution_count": 120,
   "id": "5d2efb1b-70cb-4f9d-bf82-b146296fa00c",
   "metadata": {},
   "outputs": [],
   "source": [
    "v1 = np.array([1, 2, 3])\n",
    "v2 = np.array([4, 5, 6])"
   ]
  },
  {
   "cell_type": "code",
   "execution_count": 121,
   "id": "3883209f-71a3-42fb-8293-981ee0340279",
   "metadata": {},
   "outputs": [],
   "source": [
    "vector_sum = np.add(v1, v2)\n",
    "\n",
    "dot_product = np.dot(v1, v2)\n",
    "\n",
    "cross_product = np.cross(v1, v2)"
   ]
  },
  {
   "cell_type": "code",
   "execution_count": 122,
   "id": "d7529144-b59b-4a23-a34e-4b5be0a130c6",
   "metadata": {},
   "outputs": [
    {
     "data": {
      "text/plain": [
       "(array([5, 7, 9]), 32, array([-3,  6, -3]))"
      ]
     },
     "execution_count": 122,
     "metadata": {},
     "output_type": "execute_result"
    }
   ],
   "source": [
    "vector_sum, dot_product, cross_product"
   ]
  },
  {
   "cell_type": "markdown",
   "id": "5a65be6d-6266-4a7c-b60b-7b16d090b3e9",
   "metadata": {},
   "source": [
    "### Normalize a vector and compute vector norms."
   ]
  },
  {
   "cell_type": "code",
   "execution_count": 123,
   "id": "0dabbaea-b079-4abd-9294-d8360f29c8d7",
   "metadata": {},
   "outputs": [],
   "source": [
    "norm_v1 = v1 / np.linalg.norm(v1)\n",
    "\n",
    "norm = np.linalg.norm(v1)"
   ]
  },
  {
   "cell_type": "code",
   "execution_count": 124,
   "id": "4ad980c6-920f-422d-9c70-8168beb3df99",
   "metadata": {},
   "outputs": [
    {
     "data": {
      "text/plain": [
       "(array([0.26726124, 0.53452248, 0.80178373]), 3.7416573867739413)"
      ]
     },
     "execution_count": 124,
     "metadata": {},
     "output_type": "execute_result"
    }
   ],
   "source": [
    "norm_v1, norm"
   ]
  },
  {
   "cell_type": "markdown",
   "id": "aaaef434-3e60-4cd1-8fd2-d4fe40d58544",
   "metadata": {},
   "source": [
    "## 5. Matrix Decomposition"
   ]
  },
  {
   "cell_type": "markdown",
   "id": "7279f183-88f6-458b-8521-6452835a15e7",
   "metadata": {},
   "source": [
    "### Understand and implement Principal Component Analysis (PCA) using SVD."
   ]
  },
  {
   "cell_type": "code",
   "execution_count": 125,
   "id": "c476e11c-a89a-4e6e-9798-d025c3ca110d",
   "metadata": {},
   "outputs": [
    {
     "data": {
      "text/plain": [
       "array([[-1.49748695,  0.23275411, -0.11906979, -0.13247888, -0.00289193],\n",
       "       [-0.78749378, -0.38070668,  0.20683982, -0.04283401,  0.01183981],\n",
       "       [-1.23110601, -0.64395054, -0.08264527,  0.06424947, -0.00664941],\n",
       "       [-0.66662165,  0.22242383, -0.26787631,  0.07759759,  0.01001603],\n",
       "       [-1.24965774,  0.47673593,  0.2366549 ,  0.08105481, -0.0027879 ]])"
      ]
     },
     "execution_count": 125,
     "metadata": {},
     "output_type": "execute_result"
    }
   ],
   "source": [
    "data_matrix = np.random.rand(5, 5)\n",
    "\n",
    "U, S, Vt = np.linalg.svd(data_matrix)\n",
    "\n",
    "principal_components = np.dot(U, np.diag(S))\n",
    "\n",
    "principal_components"
   ]
  },
  {
   "cell_type": "markdown",
   "id": "19746067-c693-4fdf-8db3-1e11b5f8751d",
   "metadata": {},
   "source": [
    "# Calculus Tasks"
   ]
  },
  {
   "cell_type": "markdown",
   "id": "4d44d431-8cbf-4237-8bd5-8cf16ff830dc",
   "metadata": {},
   "source": [
    "## 1. Numerical Differentiation"
   ]
  },
  {
   "cell_type": "markdown",
   "id": "e68c2ffd-4ca5-4e27-9b14-eb2e97ec2ac8",
   "metadata": {},
   "source": [
    "### Implement forward, backward, and central difference methods for differentiation."
   ]
  },
  {
   "cell_type": "code",
   "execution_count": 126,
   "id": "bfcf18b5-22cd-4a14-b8d9-f093e4e77558",
   "metadata": {},
   "outputs": [],
   "source": [
    "def f(x):\n",
    "    return x**2 + 2*x + 1\n",
    "\n",
    "def forward_difference(f, x, h=1e-5):\n",
    "    return (f(x + h) - f(x)) / h\n",
    "\n",
    "def backward_difference(f, x, h=1e-5):\n",
    "    return (f(x) - f(x - h)) / h\n",
    "\n",
    "def central_difference(f, x, h=1e-5):\n",
    "    return (f(x + h) - f(x - h)) / (2 * h)"
   ]
  },
  {
   "cell_type": "code",
   "execution_count": 127,
   "id": "4cd5b77b-4578-4fca-969c-141bed9643eb",
   "metadata": {},
   "outputs": [],
   "source": [
    "x_point = 10.0\n",
    "forward_diff = forward_difference(f, x_point)\n",
    "backward_diff = backward_difference(f, x_point)\n",
    "central_diff = central_difference(f, x_point)"
   ]
  },
  {
   "cell_type": "code",
   "execution_count": 128,
   "id": "c4d1c7cd-9e54-4f7d-819f-2fff2abe9302",
   "metadata": {},
   "outputs": [
    {
     "data": {
      "text/plain": [
       "(22.000010000056132, 21.999989999699206, 21.99999999987767)"
      ]
     },
     "execution_count": 128,
     "metadata": {},
     "output_type": "execute_result"
    }
   ],
   "source": [
    "forward_diff, backward_diff, central_diff"
   ]
  },
  {
   "cell_type": "markdown",
   "id": "1c8c3546-0497-4678-8f24-2aac6f4724f6",
   "metadata": {},
   "source": [
    "## 2. Numerical Integration"
   ]
  },
  {
   "cell_type": "markdown",
   "id": "fec826f1-e4c6-4c4c-a5d2-08f8f65e6db4",
   "metadata": {},
   "source": [
    "### Use NumPy to compute the numerical integral of a given function."
   ]
  },
  {
   "cell_type": "code",
   "execution_count": 129,
   "id": "3c774c1d-d9a0-4178-8c6e-9afa97487262",
   "metadata": {},
   "outputs": [],
   "source": [
    "def f(x):\n",
    "    return x**2 + 2*x + 1"
   ]
  },
  {
   "cell_type": "markdown",
   "id": "347ec3bd-a576-42f9-8d27-6b73a5fdab01",
   "metadata": {},
   "source": [
    "### Implement the trapezoidal rule and Simpson's rule for integration."
   ]
  },
  {
   "cell_type": "code",
   "execution_count": 130,
   "id": "33befc28-1344-4cb2-8b58-167f0c1054db",
   "metadata": {},
   "outputs": [],
   "source": [
    "def trapezoidal_rule(f, a, b, n=100):\n",
    "    x = np.linspace(a, b, n+1)\n",
    "    y = f(x)\n",
    "    h = (b - a) / n\n",
    "    integral = (h / 2) * (y[0] + 2 * np.sum(y[1:-1]) + y[-1])\n",
    "    return integral\n",
    "\n",
    "# Define the interval\n",
    "a = 2\n",
    "b = 5"
   ]
  },
  {
   "cell_type": "code",
   "execution_count": 131,
   "id": "85917871-ae2c-4ccf-b2ba-7deafe5a9785",
   "metadata": {},
   "outputs": [
    {
     "data": {
      "text/plain": [
       "63.0"
      ]
     },
     "execution_count": 131,
     "metadata": {},
     "output_type": "execute_result"
    }
   ],
   "source": [
    "trapezoidal_integral = trapezoidal_rule(f, a, b)\n",
    "round(trapezoidal_integral, 2)"
   ]
  },
  {
   "cell_type": "code",
   "execution_count": 132,
   "id": "f88ad3cb-fd01-4946-95cd-d42ec8bc6dbd",
   "metadata": {},
   "outputs": [],
   "source": [
    "def simpsons_rule(f, a, b, n=100):\n",
    "    if n % 2 == 1:\n",
    "        n += 1  # n must be even\n",
    "    x = np.linspace(a, b, n+1)\n",
    "    y = f(x)\n",
    "    h = (b - a) / n\n",
    "    integral = (h / 3) * (y[0] + 4 * np.sum(y[1:n:2]) + 2 * np.sum(y[2:n-1:2]) + y[-1])\n",
    "    return integral"
   ]
  },
  {
   "cell_type": "code",
   "execution_count": 133,
   "id": "197e8103-5250-42ee-9802-e8b20aca56b9",
   "metadata": {},
   "outputs": [
    {
     "data": {
      "text/plain": [
       "63.0"
      ]
     },
     "execution_count": 133,
     "metadata": {},
     "output_type": "execute_result"
    }
   ],
   "source": [
    "simpsons_integral = simpsons_rule(f, a, b)\n",
    "round(simpsons_integral, 2)"
   ]
  },
  {
   "cell_type": "markdown",
   "id": "4cdb236b-0392-4221-b398-ec4693d3ec81",
   "metadata": {},
   "source": [
    "## 3. Partial Derivatives"
   ]
  },
  {
   "cell_type": "markdown",
   "id": "48595c7c-943c-4b47-a2e1-87be888dd97a",
   "metadata": {},
   "source": [
    "### Calculate partial derivatives of multivariable functions using NumPy."
   ]
  },
  {
   "cell_type": "code",
   "execution_count": 134,
   "id": "c7846d59-721d-4366-a636-4c069d5c7a6e",
   "metadata": {},
   "outputs": [],
   "source": [
    "def f(x, y):\n",
    "    return x**2 + y**2\n",
    "\n",
    "def partial_derivative_x(f, x, y, h=1e-5):\n",
    "    return (f(x + h, y) - f(x, y)) / h\n",
    "\n",
    "def partial_derivative_y(f, x, y, h=1e-5):\n",
    "    return (f(x, y + h) - f(x, y)) / h\n",
    "\n",
    "x_point = 1.0\n",
    "y_point = 2.0"
   ]
  },
  {
   "cell_type": "code",
   "execution_count": 135,
   "id": "3039bb28-b2b8-4b2d-a493-ae3fe5ef2140",
   "metadata": {},
   "outputs": [
    {
     "data": {
      "text/plain": [
       "(2.00001000001393, 4.000010000027032)"
      ]
     },
     "execution_count": 135,
     "metadata": {},
     "output_type": "execute_result"
    }
   ],
   "source": [
    "partial_x = partial_derivative_x(f, x_point, y_point)\n",
    "partial_y = partial_derivative_y(f, x_point, y_point)\n",
    "\n",
    "partial_x, partial_y"
   ]
  },
  {
   "cell_type": "markdown",
   "id": "8f9fac93-f86e-424c-9b25-8417dc650bd8",
   "metadata": {},
   "source": [
    "### Verify results by comparing with analytical solutions."
   ]
  },
  {
   "cell_type": "code",
   "execution_count": 136,
   "id": "e3df9cec-6a3c-49ca-9626-0f84f28673f8",
   "metadata": {},
   "outputs": [
    {
     "data": {
      "text/plain": [
       "(2.00001000001393, 4.000010000027032, 2.0, 4.0, True, True)"
      ]
     },
     "execution_count": 136,
     "metadata": {},
     "output_type": "execute_result"
    }
   ],
   "source": [
    "analytical_partial_x = 2 * x_point\n",
    "analytical_partial_y = 2 * y_point\n",
    "\n",
    "comparison_x = np.isclose(partial_x, analytical_partial_x)\n",
    "comparison_y = np.isclose(partial_y, analytical_partial_y)\n",
    "\n",
    "partial_x, partial_y, analytical_partial_x, analytical_partial_y, comparison_x, comparison_y"
   ]
  },
  {
   "cell_type": "code",
   "execution_count": 137,
   "id": "18160048-d531-4fc3-9a80-c1e0381ac375",
   "metadata": {},
   "outputs": [
    {
     "name": "stdout",
     "output_type": "stream",
     "text": [
      "Numerical partial derivative with respect to x: 2.00001000001393\n",
      "Analytical partial derivative with respect to x: 2.0\n",
      "Comparison (x): True\n",
      "Numerical partial derivative with respect to y: 4.000010000027032\n",
      "Analytical partial derivative with respect to y: 4.0\n",
      "Comparison (y): True\n"
     ]
    }
   ],
   "source": [
    "print(f\"Numerical partial derivative with respect to x: {partial_x}\")\n",
    "print(f\"Analytical partial derivative with respect to x: {analytical_partial_x}\")\n",
    "print(f\"Comparison (x): {comparison_x}\")\n",
    "\n",
    "print(f\"Numerical partial derivative with respect to y: {partial_y}\")\n",
    "print(f\"Analytical partial derivative with respect to y: {analytical_partial_y}\")\n",
    "print(f\"Comparison (y): {comparison_y}\")\n"
   ]
  },
  {
   "cell_type": "markdown",
   "id": "cf5e2f62-5b45-43f3-9fb3-802828bf488d",
   "metadata": {},
   "source": [
    "## 4. Optimization"
   ]
  },
  {
   "cell_type": "markdown",
   "id": "49ecfef0-2d0c-4beb-9449-b6117c8a7400",
   "metadata": {},
   "source": [
    "### Use NumPy to solve optimization problems with constraints."
   ]
  },
  {
   "cell_type": "code",
   "execution_count": 138,
   "id": "fddb9855-3db2-472a-8b1f-9becab8752b4",
   "metadata": {},
   "outputs": [],
   "source": [
    "from scipy.optimize import minimize"
   ]
  },
  {
   "cell_type": "code",
   "execution_count": 139,
   "id": "1c5631ac-7707-4c8c-b7b1-f7f88ffffe59",
   "metadata": {},
   "outputs": [],
   "source": [
    "def objective_function(x):\n",
    "    return (x[0] - 1)**2 + (x[1] - 2.5)**2\n",
    "\n",
    "def constraint1(x):\n",
    "    return 3 - (x[0] + 2 * x[1])  # x + 2y <= 3\n",
    "\n",
    "def constraint2(x):\n",
    "    return x[0]  # x >= 0\n",
    "\n",
    "def constraint3(x):\n",
    "    return x[1]  # y >= 0"
   ]
  },
  {
   "cell_type": "code",
   "execution_count": 140,
   "id": "fb782a6c-fe20-4e93-b0da-c54e57879d91",
   "metadata": {},
   "outputs": [],
   "source": [
    "x0 = np.array([0.5, 0.5])\n",
    "\n",
    "cons = [{'type': 'ineq', 'fun': constraint1},\n",
    "        {'type': 'ineq', 'fun': constraint2},\n",
    "        {'type': 'ineq', 'fun': constraint3}]\n",
    "\n",
    "solution = minimize(objective_function, x0, method='SLSQP', constraints=cons)"
   ]
  },
  {
   "cell_type": "code",
   "execution_count": 141,
   "id": "b295c94a-a212-4558-918d-be496f3dbcd6",
   "metadata": {},
   "outputs": [
    {
     "name": "stdout",
     "output_type": "stream",
     "text": [
      "Optimal value: 1.799999999999998\n",
      "Optimal variables: [0.4 1.3]\n"
     ]
    }
   ],
   "source": [
    "print('Optimal value:', solution.fun)\n",
    "print('Optimal variables:', solution.x)"
   ]
  },
  {
   "cell_type": "code",
   "execution_count": null,
   "id": "a7579928-efde-4fe6-9c93-2ad735d17950",
   "metadata": {},
   "outputs": [],
   "source": []
  }
 ],
 "metadata": {
  "kernelspec": {
   "display_name": "Python 3 (ipykernel)",
   "language": "python",
   "name": "python3"
  },
  "language_info": {
   "codemirror_mode": {
    "name": "ipython",
    "version": 3
   },
   "file_extension": ".py",
   "mimetype": "text/x-python",
   "name": "python",
   "nbconvert_exporter": "python",
   "pygments_lexer": "ipython3",
   "version": "3.11.7"
  }
 },
 "nbformat": 4,
 "nbformat_minor": 5
}
