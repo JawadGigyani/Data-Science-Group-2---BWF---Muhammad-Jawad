{
 "cells": [
  {
   "cell_type": "markdown",
   "id": "c6cdf903-0816-4f03-84c0-b81004d956f3",
   "metadata": {},
   "source": [
    "# Heading 1"
   ]
  },
  {
   "cell_type": "markdown",
   "id": "e7ce0372-2288-4fb7-a4f6-7a53cc18965a",
   "metadata": {},
   "source": [
    "## Heading 2"
   ]
  },
  {
   "cell_type": "markdown",
   "id": "499522b1-bcca-4bb2-844b-409d99d807bb",
   "metadata": {},
   "source": [
    "### Heading 3"
   ]
  },
  {
   "cell_type": "markdown",
   "id": "8703fa14-6e13-4f49-b464-8d277b20c502",
   "metadata": {},
   "source": [
    "#### Heading 4"
   ]
  },
  {
   "cell_type": "markdown",
   "id": "d775fd2b-6a1a-4a4a-a772-c9c7653469be",
   "metadata": {},
   "source": [
    "##### Heading 5"
   ]
  },
  {
   "cell_type": "markdown",
   "id": "22300378-da70-437b-8c4a-18c95cb7c676",
   "metadata": {},
   "source": [
    "###### Heading 6"
   ]
  },
  {
   "cell_type": "markdown",
   "id": "d4a7356e-b2f5-4c33-8c67-ef80e1d8c4b6",
   "metadata": {},
   "source": [
    "Hello, Muhammad **Jawad** Here."
   ]
  }
 ],
 "metadata": {
  "kernelspec": {
   "display_name": "Python 3 (ipykernel)",
   "language": "python",
   "name": "python3"
  },
  "language_info": {
   "codemirror_mode": {
    "name": "ipython",
    "version": 3
   },
   "file_extension": ".py",
   "mimetype": "text/x-python",
   "name": "python",
   "nbconvert_exporter": "python",
   "pygments_lexer": "ipython3",
   "version": "3.11.7"
  }
 },
 "nbformat": 4,
 "nbformat_minor": 5
}
