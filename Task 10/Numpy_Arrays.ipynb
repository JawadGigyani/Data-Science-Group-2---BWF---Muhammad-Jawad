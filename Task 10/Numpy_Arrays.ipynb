{
 "cells": [
  {
   "cell_type": "code",
   "execution_count": 68,
   "id": "5673b0ae-22b2-4b16-a554-4a66f681f089",
   "metadata": {},
   "outputs": [],
   "source": [
    "import numpy as np\n",
    "import seaborn as sns"
   ]
  },
  {
   "cell_type": "markdown",
   "id": "3737a297-eaba-4a33-bed2-f6e562e18ff2",
   "metadata": {},
   "source": [
    "## 1. Create a 1D NumPy array containing the integers from 0 to 9."
   ]
  },
  {
   "cell_type": "code",
   "execution_count": 69,
   "id": "1a7ca496-59a4-4e3a-8a63-748f0dfd697c",
   "metadata": {},
   "outputs": [
    {
     "name": "stdout",
     "output_type": "stream",
     "text": [
      "[0 1 2 3 4 5 6 7 8 9]\n",
      "Dimensions of the Array:  1\n"
     ]
    }
   ],
   "source": [
    "arr_1d = np.array([0, 1, 2, 3, 4, 5, 6, 7, 8, 9])\n",
    "\n",
    "print(arr_1d)\n",
    "print('Dimensions of the Array: ',arr_1d.ndim)"
   ]
  },
  {
   "cell_type": "markdown",
   "id": "1ef01188-654c-4d8c-9815-1638ce52e533",
   "metadata": {},
   "source": [
    "## 2. Create a 2D NumPy array (3x3) containing random integers between 1 and 20."
   ]
  },
  {
   "cell_type": "code",
   "execution_count": 70,
   "id": "1edc5c2f-1ef1-4027-a357-372bd594ebab",
   "metadata": {},
   "outputs": [
    {
     "name": "stdout",
     "output_type": "stream",
     "text": [
      "[[ 3  5  1]\n",
      " [11 14  5]\n",
      " [ 6 17  8]]\n",
      "Dimensions of the Array:  2\n"
     ]
    }
   ],
   "source": [
    "arr_2d = np.array([[3, 5, 1,], [11, 14, 5,], [6, 17, 8]])\n",
    "\n",
    "print(arr_2d)\n",
    "print('Dimensions of the Array: ',arr_2d.ndim)"
   ]
  },
  {
   "cell_type": "markdown",
   "id": "01163b38-defa-4d79-b0e2-c0afe693f76c",
   "metadata": {},
   "source": [
    "## 3. Create a 3D NumPy array with dimensions (2, 3, 4) filled with ones."
   ]
  },
  {
   "cell_type": "code",
   "execution_count": 71,
   "id": "3c8a14b1-befe-4193-97e7-55324609fad7",
   "metadata": {},
   "outputs": [
    {
     "name": "stdout",
     "output_type": "stream",
     "text": [
      "[[[1 1 1 1]\n",
      "  [1 1 1 1]\n",
      "  [1 1 1 1]]\n",
      "\n",
      " [[1 1 1 1]\n",
      "  [1 1 1 1]\n",
      "  [1 1 1 1]]]\n",
      "Dimensions of the Array:  3\n"
     ]
    }
   ],
   "source": [
    "arr_3d = np.array([[[1, 1, 1, 1], [1, 1, 1, 1], [1, 1, 1, 1]],\n",
    "          [[1, 1, 1, 1], [1, 1, 1, 1], [1, 1, 1, 1]]])\n",
    "\n",
    "print(arr_3d)\n",
    "print('Dimensions of the Array: ',arr_3d.ndim)"
   ]
  },
  {
   "cell_type": "markdown",
   "id": "13c1a9d4-0762-46ae-b342-ed2825ae090e",
   "metadata": {},
   "source": [
    "## 4. Add two 1D arrays element-wise."
   ]
  },
  {
   "cell_type": "code",
   "execution_count": 72,
   "id": "5ed86150-ce44-4d43-a011-b41e6dd74021",
   "metadata": {},
   "outputs": [
    {
     "name": "stdout",
     "output_type": "stream",
     "text": [
      "[40 15  4]\n",
      "Dimensions of the Result Array:  1\n"
     ]
    }
   ],
   "source": [
    "arr_1_1d = np.array([26, 12, 2])\n",
    "arr_2_1d = np.array([14, 3, 2])\n",
    "\n",
    "add_result = arr_1_1d + arr_2_1d\n",
    "print(add_result)\n",
    "print('Dimensions of the Result Array: ',add_result.ndim)"
   ]
  },
  {
   "cell_type": "markdown",
   "id": "6fb38f5c-fd75-4760-b4bf-c331c96aadce",
   "metadata": {},
   "source": [
    "## 5. Multiply two 2D arrays element-wise."
   ]
  },
  {
   "cell_type": "code",
   "execution_count": 73,
   "id": "40c8b8b0-70f8-4251-b5bd-9e75a4b08acd",
   "metadata": {},
   "outputs": [
    {
     "name": "stdout",
     "output_type": "stream",
     "text": [
      "[[ 20  56  42]\n",
      " [ 20  14 108]]\n",
      "Dimensions of the Result Array:  2\n"
     ]
    }
   ],
   "source": [
    "arr_1_2d = np.array([[2, 4, 6], [5, 7, 9]])\n",
    "arr_2_2d = np.array([[10, 14, 7], [4, 2, 12]])\n",
    "\n",
    "mul_result = arr_1_2d * arr_2_2d\n",
    "print(mul_result)\n",
    "print('Dimensions of the Result Array: ',mul_result.ndim)"
   ]
  },
  {
   "cell_type": "markdown",
   "id": "e0a9fd7d-8f4c-4ee0-83c1-76b6cd0dcbaf",
   "metadata": {},
   "source": [
    "## 6. Calculate the dot product of two matrices."
   ]
  },
  {
   "cell_type": "code",
   "execution_count": 74,
   "id": "36376093-169d-4ac6-bc64-bc195a195c40",
   "metadata": {},
   "outputs": [
    {
     "name": "stdout",
     "output_type": "stream",
     "text": [
      "[[18 27]\n",
      " [58 53]]\n"
     ]
    }
   ],
   "source": [
    "matrix1 = np.array([[3, 1], [4, 7]])\n",
    "matrix2 = np.array([[4, 8], [6, 3]])\n",
    "\n",
    "dot_product = np.dot(matrix1, matrix2)\n",
    "\n",
    "print(dot_product)"
   ]
  },
  {
   "cell_type": "markdown",
   "id": "54a11e78-2bf9-47da-8984-954436776363",
   "metadata": {},
   "source": [
    "## 7. Calculate the mean, median, and standard deviation of a 1D array."
   ]
  },
  {
   "cell_type": "code",
   "execution_count": 75,
   "id": "0024dc48-a8b0-4de6-af74-3358efcd5df6",
   "metadata": {},
   "outputs": [
    {
     "name": "stdout",
     "output_type": "stream",
     "text": [
      "Mean:  4.5\n",
      "\n",
      "Median:  5.0\n",
      "\n",
      "standard deviation:  2.7658633371878665\n"
     ]
    }
   ],
   "source": [
    "arr_1dim = np.array([3, 2, 5, 9, 5, 9, 0, 2, 5, 5])\n",
    "\n",
    "mean = np.mean(arr_1dim)\n",
    "print(\"Mean: \",mean)\n",
    "\n",
    "median = np.median(arr_1dim)\n",
    "print(\"\\nMedian: \",median)\n",
    "\n",
    "std = np.std(arr_1dim)\n",
    "print(\"\\nstandard deviation: \", std)"
   ]
  },
  {
   "cell_type": "markdown",
   "id": "8a751b03-045b-4403-b914-7fe25d72ffea",
   "metadata": {},
   "source": [
    "## 8. Find the maximum and minimum values in a 2D array.\r\n"
   ]
  },
  {
   "cell_type": "code",
   "execution_count": 76,
   "id": "69c2f334-d8b2-4ff5-9046-ea3bae900b11",
   "metadata": {},
   "outputs": [
    {
     "name": "stdout",
     "output_type": "stream",
     "text": [
      "[[ 3  5  1]\n",
      " [11 14  5]\n",
      " [ 6 17  8]]\n",
      "\n",
      "Maximum value:  17\n",
      "\n",
      "Minimum value:  1\n"
     ]
    }
   ],
   "source": [
    "# Using 2D array from Problem 2\n",
    "\n",
    "print(arr_2d)\n",
    "\n",
    "print('\\nMaximum value: ' ,np.max(arr_2d))\n",
    "\n",
    "print('\\nMinimum value: ' ,np.min(arr_2d))"
   ]
  },
  {
   "cell_type": "markdown",
   "id": "d1a19491-f05e-48fc-8d9b-d37c69ec215f",
   "metadata": {},
   "source": [
    "## 9. Generate an array of 1000 random numbers from a normal distribution with a mean of 0 and a standard deviation of 1"
   ]
  },
  {
   "cell_type": "code",
   "execution_count": 77,
   "id": "722d0622-6b66-47b0-a8d2-860ace0b1ba5",
   "metadata": {},
   "outputs": [
    {
     "name": "stderr",
     "output_type": "stream",
     "text": [
      "J:\\Anaconda\\Lib\\site-packages\\seaborn\\_oldcore.py:1119: FutureWarning: use_inf_as_na option is deprecated and will be removed in a future version. Convert inf values to NaN before operating instead.\n",
      "  with pd.option_context('mode.use_inf_as_na', True):\n"
     ]
    },
    {
     "data": {
      "text/plain": [
       "<Axes: ylabel='Count'>"
      ]
     },
     "execution_count": 77,
     "metadata": {},
     "output_type": "execute_result"
    },
    {
     "data": {
      "image/png": "[encoded data removed]",
      "text/plain": [
       "<Figure size 640x480 with 1 Axes>"
      ]
     },
     "metadata": {},
     "output_type": "display_data"
    }
   ],
   "source": [
    "random_number_arr = np.random.normal(loc = 0, scale = 1, size = 1000)\n",
    "\n",
    "sns.histplot(random_number_arr, kde=True, bins=100)"
   ]
  },
  {
   "cell_type": "markdown",
   "id": "847d7f72-667b-408f-883d-e0219ef50df6",
   "metadata": {},
   "source": [
    "## 10. Create a 2D array of shapes (5, 5) with random integers from a uniform distribution between 10 and 50.\r\n"
   ]
  },
  {
   "cell_type": "code",
   "execution_count": 78,
   "id": "cd6546c1-85cb-405a-b43f-078d4ec810d4",
   "metadata": {},
   "outputs": [
    {
     "name": "stdout",
     "output_type": "stream",
     "text": [
      "[[19 47 45 37 33]\n",
      " [24 10 17 43 46]\n",
      " [36 38 11 28 29]\n",
      " [50 42 36 16 48]\n",
      " [46 40 12 22 34]]\n"
     ]
    }
   ],
   "source": [
    "random_int_arr = np.random.randint(10, 51, size=(5,5))\n",
    "\n",
    "print(random_int_arr)"
   ]
  },
  {
   "cell_type": "markdown",
   "id": "1dec6b0d-84aa-4434-a789-c4a46af0387e",
   "metadata": {},
   "source": [
    "## 11. Calculate the cumulative sum of a 1D array."
   ]
  },
  {
   "cell_type": "code",
   "execution_count": 79,
   "id": "97831e4c-72ab-42ea-903e-7ef7f0677953",
   "metadata": {},
   "outputs": [
    {
     "name": "stdout",
     "output_type": "stream",
     "text": [
      "[0 1 2 3 4 5 6 7 8 9]\n",
      "Cumulative Sum:  [ 0  1  3  6 10 15 21 28 36 45]\n"
     ]
    }
   ],
   "source": [
    "# Using 1D array from the 1st Problem\n",
    "\n",
    "print(arr_1d)\n",
    "\n",
    "print('Cumulative Sum: ', np.cumsum(arr_1d))"
   ]
  },
  {
   "cell_type": "markdown",
   "id": "cbcdbb34-92d9-4e04-8a2d-b8d772747f4b",
   "metadata": {},
   "source": [
    "## 12. Compute the correlation coefficient matrix of a 2D array."
   ]
  },
  {
   "cell_type": "code",
   "execution_count": 80,
   "id": "a1f5b452-6dc8-476e-8a33-71426f91e5cf",
   "metadata": {},
   "outputs": [
    {
     "name": "stdout",
     "output_type": "stream",
     "text": [
      "[[ 3  5  1]\n",
      " [11 14  5]\n",
      " [ 6 17  8]]\n",
      "\n",
      " [[1.         0.98198051 0.76798817]\n",
      " [0.98198051 1.         0.63311308]\n",
      " [0.76798817 0.63311308 1.        ]]\n"
     ]
    },
    {
     "data": {
      "text/plain": [
       "<Axes: >"
      ]
     },
     "execution_count": 80,
     "metadata": {},
     "output_type": "execute_result"
    },
    {
     "data": {
      "image/png": "[encoded data removed]",
      "text/plain": [
       "<Figure size 640x480 with 2 Axes>"
      ]
     },
     "metadata": {},
     "output_type": "display_data"
    }
   ],
   "source": [
    "# Using 2Darray from the 2nd Problem\n",
    "\n",
    "print(arr_2d)\n",
    "\n",
    "corr_matrix = np.corrcoef(arr_2d)\n",
    "\n",
    "print('\\n', corr_matrix)\n",
    "\n",
    "sns.heatmap(corr_matrix, annot=True, cmap='coolwarm')"
   ]
  },
  {
   "cell_type": "markdown",
   "id": "04fbc24d-8455-45a9-bb1b-ac1423cdd03e",
   "metadata": {},
   "source": [
    "## 13. Simulate rolling a six-sided die 1000 times and count the frequency of each outcome."
   ]
  },
  {
   "cell_type": "code",
   "execution_count": 81,
   "id": "9210d244-abba-41ec-a50f-89d4421f9975",
   "metadata": {},
   "outputs": [
    {
     "name": "stdout",
     "output_type": "stream",
     "text": [
      "1: 168\n",
      "2: 160\n",
      "3: 164\n",
      "4: 149\n",
      "5: 183\n",
      "6: 176\n"
     ]
    },
    {
     "name": "stderr",
     "output_type": "stream",
     "text": [
      "J:\\Anaconda\\Lib\\site-packages\\seaborn\\_oldcore.py:1119: FutureWarning: use_inf_as_na option is deprecated and will be removed in a future version. Convert inf values to NaN before operating instead.\n",
      "  with pd.option_context('mode.use_inf_as_na', True):\n"
     ]
    },
    {
     "data": {
      "text/plain": [
       "<Axes: ylabel='Count'>"
      ]
     },
     "execution_count": 81,
     "metadata": {},
     "output_type": "execute_result"
    },
    {
     "data": {
      "image/png": "[encoded data removed]",
      "text/plain": [
       "<Figure size 640x480 with 1 Axes>"
      ]
     },
     "metadata": {},
     "output_type": "display_data"
    }
   ],
   "source": [
    "rolls = np.random.randint(1, 7, size=1000)\n",
    "\n",
    "counts = np.bincount(rolls, minlength=7)[1:]\n",
    "\n",
    "for face in range(1, 7):\n",
    "    print(f\"{face}: {counts[face-1]}\")\n",
    "\n",
    "sns.histplot(rolls, kde=True, bins=6)"
   ]
  },
  {
   "cell_type": "code",
   "execution_count": null,
   "id": "ded921f9-b5f8-4467-976a-ad530d17d7e7",
   "metadata": {},
   "outputs": [],
   "source": []
  }
 ],
 "metadata": {
  "kernelspec": {
   "display_name": "Python 3 (ipykernel)",
   "language": "python",
   "name": "python3"
  },
  "language_info": {
   "codemirror_mode": {
    "name": "ipython",
    "version": 3
   },
   "file_extension": ".py",
   "mimetype": "text/x-python",
   "name": "python",
   "nbconvert_exporter": "python",
   "pygments_lexer": "ipython3",
   "version": "3.11.7"
  }
 },
 "nbformat": 4,
 "nbformat_minor": 5
}
