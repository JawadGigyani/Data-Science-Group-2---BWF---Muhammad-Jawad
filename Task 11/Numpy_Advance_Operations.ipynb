{
 "cells": [
  {
   "cell_type": "code",
   "execution_count": 1,
   "id": "005e4abc-94e6-432e-8715-f395a20b8826",
   "metadata": {},
   "outputs": [],
   "source": [
    "import numpy as np"
   ]
  },
  {
   "cell_type": "markdown",
   "id": "54f2f2b3-7895-401d-b085-1738f4c108fc",
   "metadata": {},
   "source": [
    "# Indexing and Slicing"
   ]
  },
  {
   "cell_type": "markdown",
   "id": "3b06fe8b-51aa-40f9-b93f-7aa3827bb5fd",
   "metadata": {},
   "source": [
    "### 1. Given a 2D array of shape (6, 6), extract a 2x2 sub-array starting from the element at position (1, 1)."
   ]
  },
  {
   "cell_type": "code",
   "execution_count": 9,
   "id": "51ee5638-f96b-4ad2-ae7c-8819ae936227",
   "metadata": {},
   "outputs": [
    {
     "name": "stdout",
     "output_type": "stream",
     "text": [
      "[[ 1  2  3  4  5  6]\n",
      " [ 7  8  9 10 11 12]\n",
      " [13 14 15 16 17 18]\n",
      " [19 20 21 22 23 24]\n",
      " [25 26 27 28 29 30]\n",
      " [31 32 33 34 35 36]]\n",
      "[[ 8  9]\n",
      " [14 15]]\n"
     ]
    }
   ],
   "source": [
    "array_2d = np.array([[1, 2, 3, 4, 5, 6],\n",
    "                   [7, 8, 9, 10, 11, 12],\n",
    "                   [13, 14, 15, 16, 17, 18],\n",
    "                   [19, 20, 21, 22, 23, 24],\n",
    "                   [25, 26, 27, 28, 29, 30],\n",
    "                   [31, 32, 33, 34, 35, 36]])\n",
    "\n",
    "print(array_2d)\n",
    "\n",
    "sub_array_2d = array_2d[1:3, 1:3]\n",
    "\n",
    "print(sub_array_2d)"
   ]
  },
  {
   "cell_type": "markdown",
   "id": "324e81ce-61d9-4a46-a698-5e9f3db43d14",
   "metadata": {},
   "source": [
    "### 2. From a 3D array of shape (3, 2, 1), extract all elements in the first two rows and all columns of the second slice along the third axis.\n"
   ]
  },
  {
   "cell_type": "code",
   "execution_count": 13,
   "id": "70885d62-e7ce-4fc7-87cb-312d6c7bf98e",
   "metadata": {},
   "outputs": [
    {
     "name": "stdout",
     "output_type": "stream",
     "text": [
      "[[[0]\n",
      "  [1]]\n",
      "\n",
      " [[2]\n",
      "  [3]]\n",
      "\n",
      " [[4]\n",
      "  [5]]]\n",
      "[[0 1]\n",
      " [2 3]]\n"
     ]
    }
   ],
   "source": [
    "array_3d = np.arange(6).reshape(3, 2, 1)\n",
    "\n",
    "print(array_3d)\n",
    "\n",
    "sub_array_3d = array_3d[0:2, :, 0]\n",
    "\n",
    "print(sub_array_3d)"
   ]
  },
  {
   "cell_type": "markdown",
   "id": "4d16ec50-1339-4cfa-8486-453f34704283",
   "metadata": {},
   "source": [
    "### 3. Given an array of integers, use fancy indexing to extract elements at positions [1, 3, 4, 6].\n"
   ]
  },
  {
   "cell_type": "code",
   "execution_count": 18,
   "id": "6804cf25-ae85-467b-867d-690613e70fe8",
   "metadata": {},
   "outputs": [
    {
     "name": "stdout",
     "output_type": "stream",
     "text": [
      "[1 3 4 6]\n"
     ]
    }
   ],
   "source": [
    "array_int = np.array([0, 1, 2, 3, 4, 5, 6, 7, 8, 9])\n",
    "\n",
    "fancy_indexed = array_int[[1, 3, 4, 6]]\n",
    "\n",
    "print(fancy_indexed)"
   ]
  },
  {
   "cell_type": "markdown",
   "id": "643cc7eb-7aac-40cd-995f-9e7e482a7999",
   "metadata": {},
   "source": [
    "### 4. Given a 2D array, use fancy indexing to select rows [0, 2, 2] and columns [1, 3].\n"
   ]
  },
  {
   "cell_type": "code",
   "execution_count": 40,
   "id": "47729972-c3ce-4d66-8a97-bf2c988f213a",
   "metadata": {},
   "outputs": [
    {
     "name": "stdout",
     "output_type": "stream",
     "text": [
      "[[ 0  1  2  3  4]\n",
      " [ 5  6  7  8  9]\n",
      " [10 11 12 13 14]\n",
      " [15 16 17 18 19]\n",
      " [20 21 22 23 24]]\n",
      "[[ 1  3]\n",
      " [11 13]\n",
      " [11 13]]\n"
     ]
    }
   ],
   "source": [
    "array_2d_fancy = np.arange(25).reshape(5, 5)\n",
    "\n",
    "print(array_2d_fancy)\n",
    "\n",
    "rows = np.array([0, 2, 2])\n",
    "cols = np.array([1, 3])\n",
    "\n",
    "fancy_selected = array_2d_fancy[rows[:, np.newaxis], cols]\n",
    "\n",
    "print(fancy_selected)"
   ]
  },
  {
   "cell_type": "markdown",
   "id": "10f2493d-11a6-496e-972a-0ef46ed26512",
   "metadata": {},
   "source": [
    "\n",
    "### 5. From a 1D array of random integers, extract all elements that are greater than 8.\n"
   ]
  },
  {
   "cell_type": "code",
   "execution_count": 47,
   "id": "2ff637d7-1459-4ab4-9714-c0059cdca29f",
   "metadata": {},
   "outputs": [
    {
     "name": "stdout",
     "output_type": "stream",
     "text": [
      "Original Array:  [ 9  3 12 14 11 13  7  6  8  9]\n",
      "Output:  [ 9 12 14 11 13  9]\n"
     ]
    }
   ],
   "source": [
    "array_random = np.random.randint(0, 15, size=10)\n",
    "\n",
    "print('Original Array: ', array_random)\n",
    "\n",
    "greater_than_8 = array_random[array_random > 8]\n",
    "\n",
    "print('Output: ', greater_than_8)\n"
   ]
  },
  {
   "cell_type": "markdown",
   "id": "33b780ce-f03d-49e1-95cf-a3971971c7d4",
   "metadata": {},
   "source": [
    "### 6. Given a 2D array of shape (6, 6), replace all elements greater than 13 with the value 0.\n"
   ]
  },
  {
   "cell_type": "code",
   "execution_count": 51,
   "id": "655a98a8-9cea-403c-8c1d-2886403c698d",
   "metadata": {},
   "outputs": [
    {
     "name": "stdout",
     "output_type": "stream",
     "text": [
      "[[ 0  1  2  3  4  5]\n",
      " [ 6  7  8  9 10 11]\n",
      " [12 13 14 15 16 17]\n",
      " [18 19 20 21 22 23]\n",
      " [24 25 26 27 28 29]\n",
      " [30 31 32 33 34 35]]\n",
      "[[ 0  1  2  3  4  5]\n",
      " [ 6  7  8  9 10 11]\n",
      " [12 13  0  0  0  0]\n",
      " [ 0  0  0  0  0  0]\n",
      " [ 0  0  0  0  0  0]\n",
      " [ 0  0  0  0  0  0]]\n"
     ]
    }
   ],
   "source": [
    "array_2d_replace = np.arange(36).reshape(6,6)\n",
    "\n",
    "print(array_2d_replace)\n",
    "\n",
    "array_2d_replace[array_2d_replace > 13] = 0\n",
    "\n",
    "print(array_2d_replace)"
   ]
  },
  {
   "cell_type": "markdown",
   "id": "2cb84eed-a550-450c-9306-064412d3c411",
   "metadata": {},
   "source": []
  },
  {
   "cell_type": "markdown",
   "id": "2c815cff-8df5-497a-bcb3-380672126ec8",
   "metadata": {},
   "source": [
    "# Broadcasting"
   ]
  },
  {
   "cell_type": "markdown",
   "id": "3a465f7c-6a90-481b-afe3-d3e1629cb457",
   "metadata": {},
   "source": [
    "### 1. Add a 1D array of shape (3,) to each row of a 2D array of shape (4, 3)."
   ]
  },
  {
   "cell_type": "code",
   "execution_count": 55,
   "id": "8e9b6d83-561d-4edf-af1b-9bdb5905f128",
   "metadata": {},
   "outputs": [
    {
     "name": "stdout",
     "output_type": "stream",
     "text": [
      "[1 2 3]\n",
      "[[ 0  1  2]\n",
      " [ 3  4  5]\n",
      " [ 6  7  8]\n",
      " [ 9 10 11]]\n",
      "\n",
      " [[ 1  3  5]\n",
      " [ 4  6  8]\n",
      " [ 7  9 11]\n",
      " [10 12 14]]\n"
     ]
    }
   ],
   "source": [
    "array_1d_broadcast = np.array([1, 2, 3])\n",
    "print(array_1d_broadcast)\n",
    "\n",
    "array_2d_broadcast = np.arange(12).reshape(4,3)\n",
    "print(array_2d_broadcast)\n",
    "\n",
    "result = array_2d_broadcast + array_1d_broadcast\n",
    "\n",
    "print('\\n',result)\n"
   ]
  },
  {
   "cell_type": "markdown",
   "id": "735c09bc-c312-40bc-bdbb-5e314bab9949",
   "metadata": {},
   "source": [
    "### 2. Multiply a 2D array of shape (3, 3) by a 1D array of shape (3,).\n"
   ]
  },
  {
   "cell_type": "code",
   "execution_count": 57,
   "id": "1fd5c054-efeb-43d2-a00a-48fc05d25a34",
   "metadata": {},
   "outputs": [
    {
     "name": "stdout",
     "output_type": "stream",
     "text": [
      "[[1 2 3]\n",
      " [4 5 6]\n",
      " [7 8 9]]\n",
      "[1 2 3]\n",
      "\n",
      " [[ 1  4  9]\n",
      " [ 4 10 18]\n",
      " [ 7 16 27]]\n"
     ]
    }
   ],
   "source": [
    "array_2d_mult = np.array([[1, 2, 3], [4, 5, 6], [7, 8, 9]])\n",
    "print(array_2d_mult)\n",
    "\n",
    "array_1d_mult = np.array([1, 2, 3])\n",
    "print(array_1d_mult)\n",
    "\n",
    "result_mult = array_2d_mult * array_1d_mult\n",
    "\n",
    "print('\\n',result_mult)\n"
   ]
  },
  {
   "cell_type": "markdown",
   "id": "c53b48d5-10a1-41f3-b9e9-cbce6fe67958",
   "metadata": {},
   "source": [
    "### 3. Create two 2D arrays of shapes (3, 1) and (1, 4) respectively, and perform element-wise addition.\n"
   ]
  },
  {
   "cell_type": "code",
   "execution_count": 63,
   "id": "02868aae-3c76-4c3e-9b4a-9181eb7aa1c3",
   "metadata": {},
   "outputs": [
    {
     "name": "stdout",
     "output_type": "stream",
     "text": [
      "(3, 1) (1, 4) \n",
      "\n",
      "[[2 3 4 5]\n",
      " [3 4 5 6]\n",
      " [4 5 6 7]]\n"
     ]
    }
   ],
   "source": [
    "array_2d_1 = np.array([[1], [2], [3]])\n",
    "array_2d_2 = np.array([[1, 2, 3, 4]])\n",
    "\n",
    "print(array_2d_1.shape, array_2d_2.shape, '\\n')\n",
    "\n",
    "result_add = array_2d_1 + array_2d_2\n",
    "\n",
    "print(result_add)\n"
   ]
  },
  {
   "cell_type": "markdown",
   "id": "4131a3a6-605f-4a2d-9ee6-1569e1380ebc",
   "metadata": {},
   "source": [
    "### 4. Given a 3D array of shape (2, 3, 4), add a 2D array of shape (3, 4) to each 2D slice along the first axis.\n"
   ]
  },
  {
   "cell_type": "code",
   "execution_count": 71,
   "id": "2874e17b-5730-4dca-90ad-ae9448687e7b",
   "metadata": {},
   "outputs": [
    {
     "name": "stdout",
     "output_type": "stream",
     "text": [
      "[[ 0  1  2  3]\n",
      " [ 4  5  6  7]\n",
      " [ 8  9 10 11]]\n",
      "[[ 1  2  3  4]\n",
      " [ 5  6  7  8]\n",
      " [ 9 10 11 12]]\n",
      "\n",
      " [[ 1  3  5  7]\n",
      " [ 9 11 13 15]\n",
      " [17 19 21 23]]\n"
     ]
    }
   ],
   "source": [
    "array_3d_add = np.arange(12).reshape(3,4)\n",
    "print(array_3d_add)\n",
    "\n",
    "array_2d_add = np.array([[1, 2, 3, 4], [5, 6, 7, 8], [9, 10, 11, 12]])\n",
    "print(array_2d_add)\n",
    "\n",
    "result_add_3d = array_3d_add + array_2d_add\n",
    "\n",
    "print('\\n',result_add_3d)\n"
   ]
  },
  {
   "cell_type": "markdown",
   "id": "57f40057-02dc-46e3-9de9-4b05c36e7089",
   "metadata": {},
   "source": []
  },
  {
   "cell_type": "markdown",
   "id": "43452f32-df9e-4be8-989f-aded729c45a8",
   "metadata": {},
   "source": [
    "# Some more"
   ]
  },
  {
   "cell_type": "markdown",
   "id": "e7970083-2b9d-4f8f-b02d-82a3f8ac31a3",
   "metadata": {},
   "source": [
    "### 1. Given a 2D array, use slicing to extract every second row and every second column, then add a 1D array to each row of the sliced array."
   ]
  },
  {
   "cell_type": "code",
   "execution_count": 77,
   "id": "b7ac8dfb-e036-4efe-bb48-999ac0573635",
   "metadata": {},
   "outputs": [
    {
     "name": "stdout",
     "output_type": "stream",
     "text": [
      "[[ 0  1  2  3  4  5]\n",
      " [ 6  7  8  9 10 11]\n",
      " [12 13 14 15 16 17]\n",
      " [18 19 20 21 22 23]\n",
      " [24 25 26 27 28 29]\n",
      " [30 31 32 33 34 35]]\n",
      "[[ 7  9 11]\n",
      " [19 21 23]\n",
      " [31 33 35]]\n",
      "\n",
      " [[ 8 11 14]\n",
      " [20 23 26]\n",
      " [32 35 38]]\n"
     ]
    }
   ],
   "source": [
    "array_2d_some = np.arange(36).reshape(6, 6)\n",
    "print(array_2d_some)\n",
    "\n",
    "sliced_array = array_2d_some[1:6:2, 1:6:2]\n",
    "print(sliced_array)\n",
    "\n",
    "array_1d_some = np.array([1, 2, 3])\n",
    "\n",
    "result_some = sliced_array + array_1d_some\n",
    "\n",
    "print('\\n',result_some)\n"
   ]
  },
  {
   "cell_type": "markdown",
   "id": "b45e912c-c1ff-48e9-b7ce-8be6e2830c09",
   "metadata": {},
   "source": [
    "### 2. From a 3D array of shape (3, 2, 1), extract a sub-array using slicing and then use broadcasting to subtract a 2D array from each slice along the third axis."
   ]
  },
  {
   "cell_type": "code",
   "execution_count": 82,
   "id": "7de41875-e8ea-4850-9155-a8ba42179139",
   "metadata": {},
   "outputs": [
    {
     "name": "stdout",
     "output_type": "stream",
     "text": [
      "[[[0]\n",
      "  [1]]\n",
      "\n",
      " [[2]\n",
      "  [3]]\n",
      "\n",
      " [[4]\n",
      "  [5]]]\n",
      "\n",
      " [[0 1]\n",
      " [2 3]\n",
      " [4 5]]\n",
      "\n",
      " [[1 2]\n",
      " [3 4]\n",
      " [5 6]]\n",
      "\n",
      " [[-1 -1]\n",
      " [-1 -1]\n",
      " [-1 -1]]\n"
     ]
    }
   ],
   "source": [
    "array_3d_some = np.arange(6).reshape(3, 2, 1)\n",
    "print(array_3d_some)\n",
    "\n",
    "sub_array_some = array_3d_some[:, :, 0]\n",
    "print('\\n',sub_array_some)\n",
    "\n",
    "array_2d_subtract = np.array([[1, 2], [3, 4], [5, 6]])\n",
    "print('\\n',array_2d_subtract)\n",
    "\n",
    "result_subtract = sub_array_some - array_2d_subtract\n",
    "\n",
    "print('\\n',result_subtract)"
   ]
  },
  {
   "cell_type": "markdown",
   "id": "df7a92b9-d9db-4f72-b1d7-678064c60bc2",
   "metadata": {},
   "source": [
    "### 3. Given a 2D array, extract the diagonal elements and create a 1D array.\n"
   ]
  },
  {
   "cell_type": "code",
   "execution_count": 83,
   "id": "68c53629-863b-4786-ae6b-7e29f3c41206",
   "metadata": {},
   "outputs": [
    {
     "name": "stdout",
     "output_type": "stream",
     "text": [
      "[[ 0  1  2  3]\n",
      " [ 4  5  6  7]\n",
      " [ 8  9 10 11]\n",
      " [12 13 14 15]]\n",
      "[ 0  5 10 15]\n"
     ]
    }
   ],
   "source": [
    "array_2d_diag = np.arange(16).reshape(4, 4)\n",
    "print(array_2d_diag)\n",
    "\n",
    "diagonal_elements = np.diag(array_2d_diag)\n",
    "\n",
    "print(diagonal_elements)\n"
   ]
  },
  {
   "cell_type": "markdown",
   "id": "dffa521d-57cc-4f2c-9bac-e897b5bf3076",
   "metadata": {},
   "source": [
    "### 4. Use slicing to reverse the order of elements in each row of a 2D array.\n"
   ]
  },
  {
   "cell_type": "code",
   "execution_count": 85,
   "id": "3065bbbe-28a5-4ffe-b8f5-7c46cce3e71d",
   "metadata": {},
   "outputs": [
    {
     "name": "stdout",
     "output_type": "stream",
     "text": [
      "[[ 0  1  2  3]\n",
      " [ 4  5  6  7]\n",
      " [ 8  9 10 11]\n",
      " [12 13 14 15]]\n",
      "\n",
      " [[ 3  2  1  0]\n",
      " [ 7  6  5  4]\n",
      " [11 10  9  8]\n",
      " [15 14 13 12]]\n"
     ]
    }
   ],
   "source": [
    "array_2d_reverse = np.arange(16).reshape(4, 4)\n",
    "print(array_2d_reverse)\n",
    "\n",
    "reversed_array = array_2d_reverse[:, ::-1]\n",
    "\n",
    "print('\\n',reversed_array)\n"
   ]
  },
  {
   "cell_type": "markdown",
   "id": "e4e13f6e-3869-4d74-b9b8-e531b50408d7",
   "metadata": {},
   "source": [
    "### 5. Given a 3D array of shape (7, 6, 5), use slicing to extract a sub-array of shape (2, 3, 4) and then use broadcasting to add a 1D array of shape (4,) to each row along the third axis.\n"
   ]
  },
  {
   "cell_type": "code",
   "execution_count": 88,
   "id": "664b84f6-a927-4099-bb42-3c37a3a8e999",
   "metadata": {},
   "outputs": [
    {
     "name": "stdout",
     "output_type": "stream",
     "text": [
      "[[[ 8 14 11  6]\n",
      "  [ 5 11 12  4]\n",
      "  [ 5  4  9 10]]\n",
      "\n",
      " [[ 4 20 20 13]\n",
      "  [11 17 12  9]\n",
      "  [14 18 12  4]]]\n"
     ]
    }
   ],
   "source": [
    "array_3d_large = np.random.randint(0, 20, size=(7, 6, 5)) \n",
    "\n",
    "sub_array_large = array_3d_large[:2, :3, :4]\n",
    "\n",
    "array_1d_large = np.array([1, 2, 3, 4])\n",
    "\n",
    "result_large = sub_array_large + array_1d_large\n",
    "\n",
    "print(result_large)\n"
   ]
  },
  {
   "cell_type": "markdown",
   "id": "2b973cc9-beb6-437a-a770-335e1defc805",
   "metadata": {},
   "source": [
    "### 6. Create a 2D array and use both slicing and broadcasting to set the last column to the sum of the first two columns for each row.\n"
   ]
  },
  {
   "cell_type": "code",
   "execution_count": 92,
   "id": "49990423-7729-40fa-88f0-70891a853d5f",
   "metadata": {},
   "outputs": [
    {
     "name": "stdout",
     "output_type": "stream",
     "text": [
      "[[ 0  1  2  3  4]\n",
      " [ 5  6  7  8  9]\n",
      " [10 11 12 13 14]\n",
      " [15 16 17 18 19]\n",
      " [20 21 22 23 24]]\n",
      "\n",
      " [[ 0  1  2  3  1]\n",
      " [ 5  6  7  8 11]\n",
      " [10 11 12 13 21]\n",
      " [15 16 17 18 31]\n",
      " [20 21 22 23 41]]\n"
     ]
    }
   ],
   "source": [
    "array_2d_final = np.arange(25).reshape(5, 5)\n",
    "print(array_2d_final)\n",
    "\n",
    "array_2d_final[:, -1] = array_2d_final[:, 0] + array_2d_final[:, 1]\n",
    "\n",
    "print('\\n', array_2d_final)"
   ]
  },
  {
   "cell_type": "code",
   "execution_count": null,
   "id": "85df0da9-ed09-4b0d-a628-63fbeeeec467",
   "metadata": {},
   "outputs": [],
   "source": []
  }
 ],
 "metadata": {
  "kernelspec": {
   "display_name": "Python 3 (ipykernel)",
   "language": "python",
   "name": "python3"
  },
  "language_info": {
   "codemirror_mode": {
    "name": "ipython",
    "version": 3
   },
   "file_extension": ".py",
   "mimetype": "text/x-python",
   "name": "python",
   "nbconvert_exporter": "python",
   "pygments_lexer": "ipython3",
   "version": "3.11.7"
  }
 },
 "nbformat": 4,
 "nbformat_minor": 5
}
