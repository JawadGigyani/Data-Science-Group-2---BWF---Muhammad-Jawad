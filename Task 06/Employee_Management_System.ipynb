{
 "cells": [
  {
   "cell_type": "code",
   "execution_count": 75,
   "id": "bb7c0dbd-a776-4a17-83c0-13e471cb9cd9",
   "metadata": {},
   "outputs": [],
   "source": [
    "import json\n",
    "import os\n",
    "\n",
    "EMPLOYEES = 'employees.json'\n",
    "\n",
    "def load_data():\n",
    "    if not os.path.exists(EMPLOYEES):\n",
    "        return []\n",
    "\n",
    "    try:\n",
    "        file = open(EMPLOYEES, 'r')\n",
    "        employees = json.load(file)\n",
    "        file.close()\n",
    "        return employees\n",
    "    except (FileNotFoundError, json.JSONDecodeError):\n",
    "        return []\n",
    "\n",
    "def save_data(employees):\n",
    "    try:\n",
    "        file = open(EMPLOYEES, 'w')\n",
    "        json.dump(employees, file, indent=4)\n",
    "        file.close()\n",
    "    except Exception as e:\n",
    "        print(f\"Error saving data: {e}\")\n",
    "\n",
    "def get_employee_by_id(employees, employee_id):\n",
    "    for employee in employees:\n",
    "        if employee['employee_id'] == employee_id:\n",
    "            return employee\n",
    "    return None"
   ]
  },
  {
   "cell_type": "markdown",
   "id": "9af4e2cc-a3ad-4902-af14-9b25b431455a",
   "metadata": {},
   "source": [
    "### Add Employees"
   ]
  },
  {
   "cell_type": "code",
   "execution_count": 76,
   "id": "a3c4ce43-919c-49ca-b83c-26983091babe",
   "metadata": {},
   "outputs": [],
   "source": [
    "def add_employee(employees):\n",
    "    # Employee ID\n",
    "    while True:\n",
    "        employee_id = input(\"Enter employee ID: \")\n",
    "        # Constraint: ID must be numeric and greater than zero\n",
    "        if employee_id.isdigit() and int(employee_id) > 0:\n",
    "            if get_employee_by_id(employees, employee_id):\n",
    "                print(\"Employee ID already exists.\")\n",
    "            else:\n",
    "                break\n",
    "        else:\n",
    "            print(\"Invalid ID. Please enter a numeric value greater than 0.\")\n",
    "\n",
    "    # Employee Name\n",
    "    employee_name = input(\"Enter employee name: \").capitalize()\n",
    "\n",
    "    # Employee Age\n",
    "    while True:\n",
    "        employee_age = input(\"Enter employee age: \")\n",
    "        # Constraint: Age must be numeric and greater than 16\n",
    "        if employee_age.isdigit() and int(employee_age) > 16:\n",
    "            break\n",
    "        else:\n",
    "            print(\"Invalid age. Please enter a numeric value greater than 16.\")\n",
    "\n",
    "    # Employee Department\n",
    "    employee_department = input(\"Enter employee department: \").capitalize()\n",
    "\n",
    "    # Employee Position/Title\n",
    "    employee_position = input(\"Enter employee position/title: \").capitalize()\n",
    "\n",
    "    # Employee Salary\n",
    "    while True:\n",
    "        employee_salary = input(\"Enter employee salary: \")\n",
    "        # Constraint: Salary must be numeric and greater than 37000 as minimum wage in Pakistan is greater than 37000\n",
    "        if employee_salary.isdigit() and int(employee_salary) > 37000:\n",
    "            break\n",
    "        else:\n",
    "            print(\"Invalid salary. Please enter a numeric value greater than 37000.\")\n",
    "\n",
    "    # Employee Education\n",
    "    employee_education = input(\"Enter employee education (BS, Diploma, MS, PhD, etc): \").capitalize()\n",
    "    \n",
    "    # Employee Type\n",
    "    employee_type = input(\"Enter employee type (Full-time, Part-time, Contract): \").capitalize()\n",
    "\n",
    "    new_employee = {\n",
    "        'employee_id': employee_id,\n",
    "        'employee_name': employee_name,\n",
    "        'employee_age': employee_age,\n",
    "        'employee_department': employee_department,\n",
    "        'employee_position': employee_position,\n",
    "        'employee_salary': employee_salary,\n",
    "        'employee_education': employee_education,\n",
    "        'employee_type': employee_type\n",
    "    }\n",
    "\n",
    "    employees.append(new_employee)\n",
    "    save_data(employees)\n",
    "    print(\"Employee added successfully.\")"
   ]
  },
  {
   "cell_type": "markdown",
   "id": "956b72c7-233d-4488-9613-b5000fb6b663",
   "metadata": {},
   "source": [
    "### Search Employee"
   ]
  },
  {
   "cell_type": "code",
   "execution_count": 77,
   "id": "49e0c31c-4108-41be-9b75-1258244d4fdb",
   "metadata": {},
   "outputs": [],
   "source": [
    "def search_employee(employees):\n",
    "    employee_id = input(\"\\nEnter employee ID to search: \")\n",
    "    employee = get_employee_by_id(employees, employee_id)\n",
    "    if employee:\n",
    "        print(f\"\\nEmployee found: {employee}\")\n",
    "    else:\n",
    "        print(\"Employee not found.\")"
   ]
  },
  {
   "cell_type": "markdown",
   "id": "23ed6035-afa1-400b-9506-d6b0de2aeaa4",
   "metadata": {},
   "source": [
    "### Delete Employee"
   ]
  },
  {
   "cell_type": "code",
   "execution_count": 78,
   "id": "463c601a-8e9a-475a-9a21-34d625fab999",
   "metadata": {},
   "outputs": [],
   "source": [
    "def delete_employee(employees):\n",
    "    employee_id = input(\"\\nEnter employee ID to delete: \")\n",
    "    employee = get_employee_by_id(employees, employee_id)\n",
    "    if employee:\n",
    "        employees.remove(employee)\n",
    "        save_data(employees)\n",
    "        print(\"Employee deleted successfully.\")\n",
    "    else:\n",
    "        print(\"Employee not found.\")"
   ]
  },
  {
   "cell_type": "markdown",
   "id": "1e9cfd96-c3f4-4177-8728-d342e60efb59",
   "metadata": {},
   "source": [
    "### Display Employees"
   ]
  },
  {
   "cell_type": "code",
   "execution_count": 79,
   "id": "9d224e67-2e9b-4427-9140-4ecab17ce746",
   "metadata": {},
   "outputs": [],
   "source": [
    "def display_employees(employees):\n",
    "    if not employees:\n",
    "        print(\"No Record Found.\")\n",
    "    else:\n",
    "        for employee in employees:\n",
    "            print(f\"\\nID: {employee['employee_id']}, Name: {employee['employee_name']}, Age: {employee['employee_age']}, \"\n",
    "                  f\"Department: {employee['employee_department']}, Position: {employee['employee_position']}, \"\n",
    "                  f\"Salary: {employee['employee_salary']}, Education: {employee['employee_education']}, \"\n",
    "                  f\"Type: {employee['employee_type']}\")"
   ]
  },
  {
   "cell_type": "code",
   "execution_count": 80,
   "id": "94046628-3a46-436c-bd31-ffe8acd0096a",
   "metadata": {},
   "outputs": [
    {
     "name": "stdout",
     "output_type": "stream",
     "text": [
      "------------------------------------------------------------------------------------------------------------------------------------\n",
      "\n",
      "Employee Management System\n",
      "\n",
      "1. Add Employee\n",
      "2. Search Employee\n",
      "3. Delete Employee\n",
      "4. Display Employees\n",
      "5. Exit\n",
      "\n"
     ]
    },
    {
     "name": "stdin",
     "output_type": "stream",
     "text": [
      "Enter your choice:  4\n"
     ]
    },
    {
     "name": "stdout",
     "output_type": "stream",
     "text": [
      "No Record Found.\n",
      "------------------------------------------------------------------------------------------------------------------------------------\n",
      "\n",
      "Employee Management System\n",
      "\n",
      "1. Add Employee\n",
      "2. Search Employee\n",
      "3. Delete Employee\n",
      "4. Display Employees\n",
      "5. Exit\n",
      "\n"
     ]
    },
    {
     "name": "stdin",
     "output_type": "stream",
     "text": [
      "Enter your choice:  1\n",
      "Enter employee ID:  23\n",
      "Enter employee name:  Muhammad Jawad\n",
      "Enter employee age:  21\n",
      "Enter employee department:  IT\n",
      "Enter employee position/title:  Data Scientist\n",
      "Enter employee salary:  80000\n",
      "Enter employee education (BS, Diploma, MS, PhD, etc):  BS\n",
      "Enter employee type (Full-time, Part-time, Contract):  Full Time\n"
     ]
    },
    {
     "name": "stdout",
     "output_type": "stream",
     "text": [
      "Employee added successfully.\n",
      "------------------------------------------------------------------------------------------------------------------------------------\n",
      "\n",
      "Employee Management System\n",
      "\n",
      "1. Add Employee\n",
      "2. Search Employee\n",
      "3. Delete Employee\n",
      "4. Display Employees\n",
      "5. Exit\n",
      "\n"
     ]
    },
    {
     "name": "stdin",
     "output_type": "stream",
     "text": [
      "Enter your choice:  1\n",
      "Enter employee ID:  21\n",
      "Enter employee name:  Ahmed\n",
      "Enter employee age:  18\n",
      "Enter employee department:  hr\n",
      "Enter employee position/title:  hr assistant\n",
      "Enter employee salary:  35000\n"
     ]
    },
    {
     "name": "stdout",
     "output_type": "stream",
     "text": [
      "Invalid salary. Please enter a numeric value greater than 37000.\n"
     ]
    },
    {
     "name": "stdin",
     "output_type": "stream",
     "text": [
      "Enter employee salary:  40000\n",
      "Enter employee education (BS, Diploma, MS, PhD, etc):  bs\n",
      "Enter employee type (Full-time, Part-time, Contract):  full time\n"
     ]
    },
    {
     "name": "stdout",
     "output_type": "stream",
     "text": [
      "Employee added successfully.\n",
      "------------------------------------------------------------------------------------------------------------------------------------\n",
      "\n",
      "Employee Management System\n",
      "\n",
      "1. Add Employee\n",
      "2. Search Employee\n",
      "3. Delete Employee\n",
      "4. Display Employees\n",
      "5. Exit\n",
      "\n"
     ]
    },
    {
     "name": "stdin",
     "output_type": "stream",
     "text": [
      "Enter your choice:  1\n",
      "Enter employee ID:  21\n"
     ]
    },
    {
     "name": "stdout",
     "output_type": "stream",
     "text": [
      "Employee ID already exists.\n"
     ]
    },
    {
     "name": "stdin",
     "output_type": "stream",
     "text": [
      "Enter employee ID:  a32\n"
     ]
    },
    {
     "name": "stdout",
     "output_type": "stream",
     "text": [
      "Invalid ID. Please enter a numeric value greater than 0.\n"
     ]
    },
    {
     "name": "stdin",
     "output_type": "stream",
     "text": [
      "Enter employee ID:  43\n",
      "Enter employee name:  Hamad\n",
      "Enter employee age:  22\n",
      "Enter employee department:  Finance\n",
      "Enter employee position/title:  aCcounTant\n",
      "Enter employee salary:  50000\n",
      "Enter employee education (BS, Diploma, MS, PhD, etc):  bs\n",
      "Enter employee type (Full-time, Part-time, Contract):  fuLL time\n"
     ]
    },
    {
     "name": "stdout",
     "output_type": "stream",
     "text": [
      "Employee added successfully.\n",
      "------------------------------------------------------------------------------------------------------------------------------------\n",
      "\n",
      "Employee Management System\n",
      "\n",
      "1. Add Employee\n",
      "2. Search Employee\n",
      "3. Delete Employee\n",
      "4. Display Employees\n",
      "5. Exit\n",
      "\n"
     ]
    },
    {
     "name": "stdin",
     "output_type": "stream",
     "text": [
      "Enter your choice:  4\n"
     ]
    },
    {
     "name": "stdout",
     "output_type": "stream",
     "text": [
      "\n",
      "ID: 23, Name: Muhammad jawad, Age: 21, Department: It, Position: Data scientist, Salary: 80000, Education: Bs, Type: Full time\n",
      "\n",
      "ID: 21, Name: Ahmed, Age: 18, Department: Hr, Position: Hr assistant, Salary: 40000, Education: Bs, Type: Full time\n",
      "\n",
      "ID: 43, Name: Hamad, Age: 22, Department: Finance, Position: Accountant, Salary: 50000, Education: Bs, Type: Full time\n",
      "------------------------------------------------------------------------------------------------------------------------------------\n",
      "\n",
      "Employee Management System\n",
      "\n",
      "1. Add Employee\n",
      "2. Search Employee\n",
      "3. Delete Employee\n",
      "4. Display Employees\n",
      "5. Exit\n",
      "\n"
     ]
    },
    {
     "name": "stdin",
     "output_type": "stream",
     "text": [
      "Enter your choice:  2\n",
      "\n",
      "Enter employee ID to search:  35\n"
     ]
    },
    {
     "name": "stdout",
     "output_type": "stream",
     "text": [
      "Employee not found.\n",
      "------------------------------------------------------------------------------------------------------------------------------------\n",
      "\n",
      "Employee Management System\n",
      "\n",
      "1. Add Employee\n",
      "2. Search Employee\n",
      "3. Delete Employee\n",
      "4. Display Employees\n",
      "5. Exit\n",
      "\n"
     ]
    },
    {
     "name": "stdin",
     "output_type": "stream",
     "text": [
      "Enter your choice:  2\n",
      "\n",
      "Enter employee ID to search:  43\n"
     ]
    },
    {
     "name": "stdout",
     "output_type": "stream",
     "text": [
      "\n",
      "Employee found: {'employee_id': '43', 'employee_name': 'Hamad', 'employee_age': '22', 'employee_department': 'Finance', 'employee_position': 'Accountant', 'employee_salary': '50000', 'employee_education': 'Bs', 'employee_type': 'Full time'}\n",
      "------------------------------------------------------------------------------------------------------------------------------------\n",
      "\n",
      "Employee Management System\n",
      "\n",
      "1. Add Employee\n",
      "2. Search Employee\n",
      "3. Delete Employee\n",
      "4. Display Employees\n",
      "5. Exit\n",
      "\n"
     ]
    },
    {
     "name": "stdin",
     "output_type": "stream",
     "text": [
      "Enter your choice:  3\n",
      "\n",
      "Enter employee ID to delete:  43\n"
     ]
    },
    {
     "name": "stdout",
     "output_type": "stream",
     "text": [
      "Employee deleted successfully.\n",
      "------------------------------------------------------------------------------------------------------------------------------------\n",
      "\n",
      "Employee Management System\n",
      "\n",
      "1. Add Employee\n",
      "2. Search Employee\n",
      "3. Delete Employee\n",
      "4. Display Employees\n",
      "5. Exit\n",
      "\n"
     ]
    },
    {
     "name": "stdin",
     "output_type": "stream",
     "text": [
      "Enter your choice:  4\n"
     ]
    },
    {
     "name": "stdout",
     "output_type": "stream",
     "text": [
      "\n",
      "ID: 23, Name: Muhammad jawad, Age: 21, Department: It, Position: Data scientist, Salary: 80000, Education: Bs, Type: Full time\n",
      "\n",
      "ID: 21, Name: Ahmed, Age: 18, Department: Hr, Position: Hr assistant, Salary: 40000, Education: Bs, Type: Full time\n",
      "------------------------------------------------------------------------------------------------------------------------------------\n",
      "\n",
      "Employee Management System\n",
      "\n",
      "1. Add Employee\n",
      "2. Search Employee\n",
      "3. Delete Employee\n",
      "4. Display Employees\n",
      "5. Exit\n",
      "\n"
     ]
    },
    {
     "name": "stdin",
     "output_type": "stream",
     "text": [
      "Enter your choice:  5\n"
     ]
    }
   ],
   "source": [
    "def main():\n",
    "    employees = load_data()\n",
    "    while True:\n",
    "        print(\"------------------------------------------------------------------------------------------------------------------------------------\")\n",
    "        print(\"\\nEmployee Management System\\n\")\n",
    "        print(\"1. Add Employee\")\n",
    "        print(\"2. Search Employee\")\n",
    "        print(\"3. Delete Employee\")\n",
    "        print(\"4. Display Employees\")\n",
    "        print(\"5. Exit\\n\")\n",
    "        \n",
    "        choice = input(\"Enter your choice: \")\n",
    "        \n",
    "        if choice == '1':\n",
    "            add_employee(employees)\n",
    "        elif choice == '2':\n",
    "            search_employee(employees)\n",
    "        elif choice == '3':\n",
    "            delete_employee(employees)\n",
    "        elif choice == '4':\n",
    "            display_employees(employees)\n",
    "        elif choice == '5':\n",
    "            break\n",
    "        else:\n",
    "            print(\"Invalid choice. Please try again.\")\n",
    "\n",
    "if __name__ == \"__main__\":\n",
    "    main()\n"
   ]
  },
  {
   "cell_type": "code",
   "execution_count": null,
   "id": "db1678df-a2ca-4cf8-9b64-561773dcf018",
   "metadata": {},
   "outputs": [],
   "source": []
  }
 ],
 "metadata": {
  "kernelspec": {
   "display_name": "Python 3 (ipykernel)",
   "language": "python",
   "name": "python3"
  },
  "language_info": {
   "codemirror_mode": {
    "name": "ipython",
    "version": 3
   },
   "file_extension": ".py",
   "mimetype": "text/x-python",
   "name": "python",
   "nbconvert_exporter": "python",
   "pygments_lexer": "ipython3",
   "version": "3.11.7"
  }
 },
 "nbformat": 4,
 "nbformat_minor": 5
}
