{
 "cells": [
  {
   "cell_type": "code",
   "execution_count": 67,
   "id": "95b690c6-fb09-4fea-83b6-7ecc48115a6e",
   "metadata": {},
   "outputs": [],
   "source": [
    "import pandas as pd\n",
    "import numpy as np\n",
    "import matplotlib.pyplot as plt\n",
    "from sklearn.model_selection import train_test_split\n",
    "from sklearn.linear_model import LinearRegression\n",
    "from sklearn.metrics import mean_absolute_error, mean_squared_error, r2_score, median_absolute_error"
   ]
  },
  {
   "cell_type": "markdown",
   "id": "63d7a8ed-82cf-45bf-b84e-a66b65160fdd",
   "metadata": {},
   "source": [
    "## Loading the dataset"
   ]
  },
  {
   "cell_type": "code",
   "execution_count": 68,
   "id": "58b6bd93-d449-447f-8acd-19e98568f983",
   "metadata": {
    "scrolled": true
   },
   "outputs": [],
   "source": [
    "url = \"https://archive.ics.uci.edu/ml/machine-learning-databases/auto-mpg/auto-mpg.data\"\n",
    "column_names = ['mpg', 'cylinders', 'displacement', 'horsepower', 'weight', 'acceleration', 'model_year', 'origin', 'car_name']\n",
    "data = pd.read_csv(url, names=column_names, delim_whitespace=True, na_values='?')"
   ]
  },
  {
   "cell_type": "code",
   "execution_count": 69,
   "id": "9e1f8717-fd9b-41ce-b9d1-f02e0e7c1c16",
   "metadata": {},
   "outputs": [
    {
     "data": {
      "text/html": [
       "<div>\n",
       "<style scoped>\n",
       "    .dataframe tbody tr th:only-of-type {\n",
       "        vertical-align: middle;\n",
       "    }\n",
       "\n",
       "    .dataframe tbody tr th {\n",
       "        vertical-align: top;\n",
       "    }\n",
       "\n",
       "    .dataframe thead th {\n",
       "        text-align: right;\n",
       "    }\n",
       "</style>\n",
       "<table border=\"1\" class=\"dataframe\">\n",
       "  <thead>\n",
       "    <tr style=\"text-align: right;\">\n",
       "      <th></th>\n",
       "      <th>mpg</th>\n",
       "      <th>cylinders</th>\n",
       "      <th>displacement</th>\n",
       "      <th>horsepower</th>\n",
       "      <th>weight</th>\n",
       "      <th>acceleration</th>\n",
       "      <th>model_year</th>\n",
       "      <th>origin</th>\n",
       "      <th>car_name</th>\n",
       "    </tr>\n",
       "  </thead>\n",
       "  <tbody>\n",
       "    <tr>\n",
       "      <th>0</th>\n",
       "      <td>18.0</td>\n",
       "      <td>8</td>\n",
       "      <td>307.0</td>\n",
       "      <td>130.0</td>\n",
       "      <td>3504.0</td>\n",
       "      <td>12.0</td>\n",
       "      <td>70</td>\n",
       "      <td>1</td>\n",
       "      <td>chevrolet chevelle malibu</td>\n",
       "    </tr>\n",
       "    <tr>\n",
       "      <th>1</th>\n",
       "      <td>15.0</td>\n",
       "      <td>8</td>\n",
       "      <td>350.0</td>\n",
       "      <td>165.0</td>\n",
       "      <td>3693.0</td>\n",
       "      <td>11.5</td>\n",
       "      <td>70</td>\n",
       "      <td>1</td>\n",
       "      <td>buick skylark 320</td>\n",
       "    </tr>\n",
       "    <tr>\n",
       "      <th>2</th>\n",
       "      <td>18.0</td>\n",
       "      <td>8</td>\n",
       "      <td>318.0</td>\n",
       "      <td>150.0</td>\n",
       "      <td>3436.0</td>\n",
       "      <td>11.0</td>\n",
       "      <td>70</td>\n",
       "      <td>1</td>\n",
       "      <td>plymouth satellite</td>\n",
       "    </tr>\n",
       "    <tr>\n",
       "      <th>3</th>\n",
       "      <td>16.0</td>\n",
       "      <td>8</td>\n",
       "      <td>304.0</td>\n",
       "      <td>150.0</td>\n",
       "      <td>3433.0</td>\n",
       "      <td>12.0</td>\n",
       "      <td>70</td>\n",
       "      <td>1</td>\n",
       "      <td>amc rebel sst</td>\n",
       "    </tr>\n",
       "    <tr>\n",
       "      <th>4</th>\n",
       "      <td>17.0</td>\n",
       "      <td>8</td>\n",
       "      <td>302.0</td>\n",
       "      <td>140.0</td>\n",
       "      <td>3449.0</td>\n",
       "      <td>10.5</td>\n",
       "      <td>70</td>\n",
       "      <td>1</td>\n",
       "      <td>ford torino</td>\n",
       "    </tr>\n",
       "  </tbody>\n",
       "</table>\n",
       "</div>"
      ],
      "text/plain": [
       "    mpg  cylinders  displacement  horsepower  weight  acceleration  \\\n",
       "0  18.0          8         307.0       130.0  3504.0          12.0   \n",
       "1  15.0          8         350.0       165.0  3693.0          11.5   \n",
       "2  18.0          8         318.0       150.0  3436.0          11.0   \n",
       "3  16.0          8         304.0       150.0  3433.0          12.0   \n",
       "4  17.0          8         302.0       140.0  3449.0          10.5   \n",
       "\n",
       "   model_year  origin                   car_name  \n",
       "0          70       1  chevrolet chevelle malibu  \n",
       "1          70       1          buick skylark 320  \n",
       "2          70       1         plymouth satellite  \n",
       "3          70       1              amc rebel sst  \n",
       "4          70       1                ford torino  "
      ]
     },
     "execution_count": 69,
     "metadata": {},
     "output_type": "execute_result"
    }
   ],
   "source": [
    "data.head()"
   ]
  },
  {
   "cell_type": "markdown",
   "id": "dec6d0d4-b145-44bd-aa5b-34ea587c9bfc",
   "metadata": {},
   "source": [
    "## Data preprocessing"
   ]
  },
  {
   "cell_type": "code",
   "execution_count": 70,
   "id": "538f5ed2-feb1-4fc0-80a7-e07c606ec61f",
   "metadata": {},
   "outputs": [
    {
     "data": {
      "text/plain": [
       "mpg             0\n",
       "cylinders       0\n",
       "displacement    0\n",
       "horsepower      6\n",
       "weight          0\n",
       "acceleration    0\n",
       "model_year      0\n",
       "origin          0\n",
       "car_name        0\n",
       "dtype: int64"
      ]
     },
     "execution_count": 70,
     "metadata": {},
     "output_type": "execute_result"
    }
   ],
   "source": [
    "data.isna().sum()"
   ]
  },
  {
   "cell_type": "code",
   "execution_count": 71,
   "id": "1978799a-df77-49f0-989a-84ed7a1d831b",
   "metadata": {},
   "outputs": [],
   "source": [
    "# Dropping rows with missing values\n",
    "data = data.dropna()"
   ]
  },
  {
   "cell_type": "code",
   "execution_count": 72,
   "id": "eb09d86f-48d4-4519-9013-8c537fe519f5",
   "metadata": {},
   "outputs": [
    {
     "data": {
      "text/plain": [
       "mpg             0\n",
       "cylinders       0\n",
       "displacement    0\n",
       "horsepower      0\n",
       "weight          0\n",
       "acceleration    0\n",
       "model_year      0\n",
       "origin          0\n",
       "car_name        0\n",
       "dtype: int64"
      ]
     },
     "execution_count": 72,
     "metadata": {},
     "output_type": "execute_result"
    }
   ],
   "source": [
    "data.isna().sum()"
   ]
  },
  {
   "cell_type": "markdown",
   "id": "d76bee50-805f-4af1-8216-1a76dcb34470",
   "metadata": {},
   "source": [
    "## Defining predictor and target variables"
   ]
  },
  {
   "cell_type": "code",
   "execution_count": 73,
   "id": "9df369ae-c1b5-40d2-b0ac-f9b95037a3df",
   "metadata": {},
   "outputs": [],
   "source": [
    "X = data[['horsepower']].values.reshape(-1, 1)\n",
    "y = data['mpg'].values"
   ]
  },
  {
   "cell_type": "code",
   "execution_count": 74,
   "id": "218b4d27-a357-41f5-a5ec-1207f41fc918",
   "metadata": {},
   "outputs": [
    {
     "data": {
      "text/plain": [
       "array([[130.],\n",
       "       [165.],\n",
       "       [150.],\n",
       "       [150.],\n",
       "       [140.],\n",
       "       [198.],\n",
       "       [220.],\n",
       "       [215.],\n",
       "       [225.],\n",
       "       [190.],\n",
       "       [170.],\n",
       "       [160.],\n",
       "       [150.],\n",
       "       [225.],\n",
       "       [ 95.],\n",
       "       [ 95.],\n",
       "       [ 97.],\n",
       "       [ 85.],\n",
       "       [ 88.],\n",
       "       [ 46.],\n",
       "       [ 87.],\n",
       "       [ 90.],\n",
       "       [ 95.],\n",
       "       [113.],\n",
       "       [ 90.],\n",
       "       [215.],\n",
       "       [200.],\n",
       "       [210.],\n",
       "       [193.],\n",
       "       [ 88.],\n",
       "       [ 90.],\n",
       "       [ 95.],\n",
       "       [100.],\n",
       "       [105.],\n",
       "       [100.],\n",
       "       [ 88.],\n",
       "       [100.],\n",
       "       [165.],\n",
       "       [175.],\n",
       "       [153.],\n",
       "       [150.],\n",
       "       [180.],\n",
       "       [170.],\n",
       "       [175.],\n",
       "       [110.],\n",
       "       [ 72.],\n",
       "       [100.],\n",
       "       [ 88.],\n",
       "       [ 86.],\n",
       "       [ 90.],\n",
       "       [ 70.],\n",
       "       [ 76.],\n",
       "       [ 65.],\n",
       "       [ 69.],\n",
       "       [ 60.],\n",
       "       [ 70.],\n",
       "       [ 95.],\n",
       "       [ 80.],\n",
       "       [ 54.],\n",
       "       [ 90.],\n",
       "       [ 86.],\n",
       "       [165.],\n",
       "       [175.],\n",
       "       [150.],\n",
       "       [153.],\n",
       "       [150.],\n",
       "       [208.],\n",
       "       [155.],\n",
       "       [160.],\n",
       "       [190.],\n",
       "       [ 97.],\n",
       "       [150.],\n",
       "       [130.],\n",
       "       [140.],\n",
       "       [150.],\n",
       "       [112.],\n",
       "       [ 76.],\n",
       "       [ 87.],\n",
       "       [ 69.],\n",
       "       [ 86.],\n",
       "       [ 92.],\n",
       "       [ 97.],\n",
       "       [ 80.],\n",
       "       [ 88.],\n",
       "       [175.],\n",
       "       [150.],\n",
       "       [145.],\n",
       "       [137.],\n",
       "       [150.],\n",
       "       [198.],\n",
       "       [150.],\n",
       "       [158.],\n",
       "       [150.],\n",
       "       [215.],\n",
       "       [225.],\n",
       "       [175.],\n",
       "       [105.],\n",
       "       [100.],\n",
       "       [100.],\n",
       "       [ 88.],\n",
       "       [ 95.],\n",
       "       [ 46.],\n",
       "       [150.],\n",
       "       [167.],\n",
       "       [170.],\n",
       "       [180.],\n",
       "       [100.],\n",
       "       [ 88.],\n",
       "       [ 72.],\n",
       "       [ 94.],\n",
       "       [ 90.],\n",
       "       [ 85.],\n",
       "       [107.],\n",
       "       [ 90.],\n",
       "       [145.],\n",
       "       [230.],\n",
       "       [ 49.],\n",
       "       [ 75.],\n",
       "       [ 91.],\n",
       "       [112.],\n",
       "       [150.],\n",
       "       [110.],\n",
       "       [122.],\n",
       "       [180.],\n",
       "       [ 95.],\n",
       "       [100.],\n",
       "       [100.],\n",
       "       [ 67.],\n",
       "       [ 80.],\n",
       "       [ 65.],\n",
       "       [ 75.],\n",
       "       [100.],\n",
       "       [110.],\n",
       "       [105.],\n",
       "       [140.],\n",
       "       [150.],\n",
       "       [150.],\n",
       "       [140.],\n",
       "       [150.],\n",
       "       [ 83.],\n",
       "       [ 67.],\n",
       "       [ 78.],\n",
       "       [ 52.],\n",
       "       [ 61.],\n",
       "       [ 75.],\n",
       "       [ 75.],\n",
       "       [ 75.],\n",
       "       [ 97.],\n",
       "       [ 93.],\n",
       "       [ 67.],\n",
       "       [ 95.],\n",
       "       [105.],\n",
       "       [ 72.],\n",
       "       [ 72.],\n",
       "       [170.],\n",
       "       [145.],\n",
       "       [150.],\n",
       "       [148.],\n",
       "       [110.],\n",
       "       [105.],\n",
       "       [110.],\n",
       "       [ 95.],\n",
       "       [110.],\n",
       "       [110.],\n",
       "       [129.],\n",
       "       [ 75.],\n",
       "       [ 83.],\n",
       "       [100.],\n",
       "       [ 78.],\n",
       "       [ 96.],\n",
       "       [ 71.],\n",
       "       [ 97.],\n",
       "       [ 97.],\n",
       "       [ 70.],\n",
       "       [ 90.],\n",
       "       [ 95.],\n",
       "       [ 88.],\n",
       "       [ 98.],\n",
       "       [115.],\n",
       "       [ 53.],\n",
       "       [ 86.],\n",
       "       [ 81.],\n",
       "       [ 92.],\n",
       "       [ 79.],\n",
       "       [ 83.],\n",
       "       [140.],\n",
       "       [150.],\n",
       "       [120.],\n",
       "       [152.],\n",
       "       [100.],\n",
       "       [105.],\n",
       "       [ 81.],\n",
       "       [ 90.],\n",
       "       [ 52.],\n",
       "       [ 60.],\n",
       "       [ 70.],\n",
       "       [ 53.],\n",
       "       [100.],\n",
       "       [ 78.],\n",
       "       [110.],\n",
       "       [ 95.],\n",
       "       [ 71.],\n",
       "       [ 70.],\n",
       "       [ 75.],\n",
       "       [ 72.],\n",
       "       [102.],\n",
       "       [150.],\n",
       "       [ 88.],\n",
       "       [108.],\n",
       "       [120.],\n",
       "       [180.],\n",
       "       [145.],\n",
       "       [130.],\n",
       "       [150.],\n",
       "       [ 68.],\n",
       "       [ 80.],\n",
       "       [ 58.],\n",
       "       [ 96.],\n",
       "       [ 70.],\n",
       "       [145.],\n",
       "       [110.],\n",
       "       [145.],\n",
       "       [130.],\n",
       "       [110.],\n",
       "       [105.],\n",
       "       [100.],\n",
       "       [ 98.],\n",
       "       [180.],\n",
       "       [170.],\n",
       "       [190.],\n",
       "       [149.],\n",
       "       [ 78.],\n",
       "       [ 88.],\n",
       "       [ 75.],\n",
       "       [ 89.],\n",
       "       [ 63.],\n",
       "       [ 83.],\n",
       "       [ 67.],\n",
       "       [ 78.],\n",
       "       [ 97.],\n",
       "       [110.],\n",
       "       [110.],\n",
       "       [ 48.],\n",
       "       [ 66.],\n",
       "       [ 52.],\n",
       "       [ 70.],\n",
       "       [ 60.],\n",
       "       [110.],\n",
       "       [140.],\n",
       "       [139.],\n",
       "       [105.],\n",
       "       [ 95.],\n",
       "       [ 85.],\n",
       "       [ 88.],\n",
       "       [100.],\n",
       "       [ 90.],\n",
       "       [105.],\n",
       "       [ 85.],\n",
       "       [110.],\n",
       "       [120.],\n",
       "       [145.],\n",
       "       [165.],\n",
       "       [139.],\n",
       "       [140.],\n",
       "       [ 68.],\n",
       "       [ 95.],\n",
       "       [ 97.],\n",
       "       [ 75.],\n",
       "       [ 95.],\n",
       "       [105.],\n",
       "       [ 85.],\n",
       "       [ 97.],\n",
       "       [103.],\n",
       "       [125.],\n",
       "       [115.],\n",
       "       [133.],\n",
       "       [ 71.],\n",
       "       [ 68.],\n",
       "       [115.],\n",
       "       [ 85.],\n",
       "       [ 88.],\n",
       "       [ 90.],\n",
       "       [110.],\n",
       "       [130.],\n",
       "       [129.],\n",
       "       [138.],\n",
       "       [135.],\n",
       "       [155.],\n",
       "       [142.],\n",
       "       [125.],\n",
       "       [150.],\n",
       "       [ 71.],\n",
       "       [ 65.],\n",
       "       [ 80.],\n",
       "       [ 80.],\n",
       "       [ 77.],\n",
       "       [125.],\n",
       "       [ 71.],\n",
       "       [ 90.],\n",
       "       [ 70.],\n",
       "       [ 70.],\n",
       "       [ 65.],\n",
       "       [ 69.],\n",
       "       [ 90.],\n",
       "       [115.],\n",
       "       [115.],\n",
       "       [ 90.],\n",
       "       [ 76.],\n",
       "       [ 60.],\n",
       "       [ 70.],\n",
       "       [ 65.],\n",
       "       [ 90.],\n",
       "       [ 88.],\n",
       "       [ 90.],\n",
       "       [ 90.],\n",
       "       [ 78.],\n",
       "       [ 90.],\n",
       "       [ 75.],\n",
       "       [ 92.],\n",
       "       [ 75.],\n",
       "       [ 65.],\n",
       "       [105.],\n",
       "       [ 65.],\n",
       "       [ 48.],\n",
       "       [ 48.],\n",
       "       [ 67.],\n",
       "       [ 67.],\n",
       "       [ 67.],\n",
       "       [ 67.],\n",
       "       [ 62.],\n",
       "       [132.],\n",
       "       [100.],\n",
       "       [ 88.],\n",
       "       [ 72.],\n",
       "       [ 84.],\n",
       "       [ 84.],\n",
       "       [ 92.],\n",
       "       [110.],\n",
       "       [ 84.],\n",
       "       [ 58.],\n",
       "       [ 64.],\n",
       "       [ 60.],\n",
       "       [ 67.],\n",
       "       [ 65.],\n",
       "       [ 62.],\n",
       "       [ 68.],\n",
       "       [ 63.],\n",
       "       [ 65.],\n",
       "       [ 65.],\n",
       "       [ 74.],\n",
       "       [ 75.],\n",
       "       [ 75.],\n",
       "       [100.],\n",
       "       [ 74.],\n",
       "       [ 80.],\n",
       "       [ 76.],\n",
       "       [116.],\n",
       "       [120.],\n",
       "       [110.],\n",
       "       [105.],\n",
       "       [ 88.],\n",
       "       [ 85.],\n",
       "       [ 88.],\n",
       "       [ 88.],\n",
       "       [ 88.],\n",
       "       [ 85.],\n",
       "       [ 84.],\n",
       "       [ 90.],\n",
       "       [ 92.],\n",
       "       [ 74.],\n",
       "       [ 68.],\n",
       "       [ 68.],\n",
       "       [ 63.],\n",
       "       [ 70.],\n",
       "       [ 88.],\n",
       "       [ 75.],\n",
       "       [ 70.],\n",
       "       [ 67.],\n",
       "       [ 67.],\n",
       "       [ 67.],\n",
       "       [110.],\n",
       "       [ 85.],\n",
       "       [ 92.],\n",
       "       [112.],\n",
       "       [ 96.],\n",
       "       [ 84.],\n",
       "       [ 90.],\n",
       "       [ 86.],\n",
       "       [ 52.],\n",
       "       [ 84.],\n",
       "       [ 79.],\n",
       "       [ 82.]])"
      ]
     },
     "execution_count": 74,
     "metadata": {},
     "output_type": "execute_result"
    }
   ],
   "source": [
    "X"
   ]
  },
  {
   "cell_type": "code",
   "execution_count": 75,
   "id": "a5d80c84-464f-409c-983b-af5fb5e3e86e",
   "metadata": {},
   "outputs": [
    {
     "data": {
      "text/plain": [
       "array([18. , 15. , 18. , 16. , 17. , 15. , 14. , 14. , 14. , 15. , 15. ,\n",
       "       14. , 15. , 14. , 24. , 22. , 18. , 21. , 27. , 26. , 25. , 24. ,\n",
       "       25. , 26. , 21. , 10. , 10. , 11. ,  9. , 27. , 28. , 25. , 19. ,\n",
       "       16. , 17. , 19. , 18. , 14. , 14. , 14. , 14. , 12. , 13. , 13. ,\n",
       "       18. , 22. , 19. , 18. , 23. , 28. , 30. , 30. , 31. , 35. , 27. ,\n",
       "       26. , 24. , 25. , 23. , 20. , 21. , 13. , 14. , 15. , 14. , 17. ,\n",
       "       11. , 13. , 12. , 13. , 19. , 15. , 13. , 13. , 14. , 18. , 22. ,\n",
       "       21. , 26. , 22. , 28. , 23. , 28. , 27. , 13. , 14. , 13. , 14. ,\n",
       "       15. , 12. , 13. , 13. , 14. , 13. , 12. , 13. , 18. , 16. , 18. ,\n",
       "       18. , 23. , 26. , 11. , 12. , 13. , 12. , 18. , 20. , 21. , 22. ,\n",
       "       18. , 19. , 21. , 26. , 15. , 16. , 29. , 24. , 20. , 19. , 15. ,\n",
       "       24. , 20. , 11. , 20. , 19. , 15. , 31. , 26. , 32. , 25. , 16. ,\n",
       "       16. , 18. , 16. , 13. , 14. , 14. , 14. , 29. , 26. , 26. , 31. ,\n",
       "       32. , 28. , 24. , 26. , 24. , 26. , 31. , 19. , 18. , 15. , 15. ,\n",
       "       16. , 15. , 16. , 14. , 17. , 16. , 15. , 18. , 21. , 20. , 13. ,\n",
       "       29. , 23. , 20. , 23. , 24. , 25. , 24. , 18. , 29. , 19. , 23. ,\n",
       "       23. , 22. , 25. , 33. , 28. , 25. , 25. , 26. , 27. , 17.5, 16. ,\n",
       "       15.5, 14.5, 22. , 22. , 24. , 22.5, 29. , 24.5, 29. , 33. , 20. ,\n",
       "       18. , 18.5, 17.5, 29.5, 32. , 28. , 26.5, 20. , 13. , 19. , 19. ,\n",
       "       16.5, 16.5, 13. , 13. , 13. , 31.5, 30. , 36. , 25.5, 33.5, 17.5,\n",
       "       17. , 15.5, 15. , 17.5, 20.5, 19. , 18.5, 16. , 15.5, 15.5, 16. ,\n",
       "       29. , 24.5, 26. , 25.5, 30.5, 33.5, 30. , 30.5, 22. , 21.5, 21.5,\n",
       "       43.1, 36.1, 32.8, 39.4, 36.1, 19.9, 19.4, 20.2, 19.2, 20.5, 20.2,\n",
       "       25.1, 20.5, 19.4, 20.6, 20.8, 18.6, 18.1, 19.2, 17.7, 18.1, 17.5,\n",
       "       30. , 27.5, 27.2, 30.9, 21.1, 23.2, 23.8, 23.9, 20.3, 17. , 21.6,\n",
       "       16.2, 31.5, 29.5, 21.5, 19.8, 22.3, 20.2, 20.6, 17. , 17.6, 16.5,\n",
       "       18.2, 16.9, 15.5, 19.2, 18.5, 31.9, 34.1, 35.7, 27.4, 25.4, 23. ,\n",
       "       27.2, 23.9, 34.2, 34.5, 31.8, 37.3, 28.4, 28.8, 26.8, 33.5, 41.5,\n",
       "       38.1, 32.1, 37.2, 28. , 26.4, 24.3, 19.1, 34.3, 29.8, 31.3, 37. ,\n",
       "       32.2, 46.6, 27.9, 40.8, 44.3, 43.4, 36.4, 30. , 44.6, 33.8, 29.8,\n",
       "       32.7, 23.7, 35. , 32.4, 27.2, 26.6, 25.8, 23.5, 30. , 39.1, 39. ,\n",
       "       35.1, 32.3, 37. , 37.7, 34.1, 34.7, 34.4, 29.9, 33. , 33.7, 32.4,\n",
       "       32.9, 31.6, 28.1, 30.7, 25.4, 24.2, 22.4, 26.6, 20.2, 17.6, 28. ,\n",
       "       27. , 34. , 31. , 29. , 27. , 24. , 36. , 37. , 31. , 38. , 36. ,\n",
       "       36. , 36. , 34. , 38. , 32. , 38. , 25. , 38. , 26. , 22. , 32. ,\n",
       "       36. , 27. , 27. , 44. , 32. , 28. , 31. ])"
      ]
     },
     "execution_count": 75,
     "metadata": {},
     "output_type": "execute_result"
    }
   ],
   "source": [
    "y"
   ]
  },
  {
   "cell_type": "markdown",
   "id": "7adb9f39-c2a5-4859-b925-c0731293ee2a",
   "metadata": {},
   "source": [
    "## Splitting the data into training and testing sets"
   ]
  },
  {
   "cell_type": "code",
   "execution_count": 76,
   "id": "5b56ffa8-5e3d-4893-80a3-e4700ee5fcfa",
   "metadata": {},
   "outputs": [],
   "source": [
    "X_train, X_test, y_train, y_test = train_test_split(X, y, test_size=0.2, random_state=42)"
   ]
  },
  {
   "cell_type": "markdown",
   "id": "7f5b52ae-acef-418f-9620-cb8b438d24d9",
   "metadata": {},
   "source": [
    "## linear regression"
   ]
  },
  {
   "cell_type": "code",
   "execution_count": 77,
   "id": "5773f1d4-a6e8-4b13-b923-b7e1fc80a28d",
   "metadata": {},
   "outputs": [],
   "source": [
    "model = LinearRegression()\n",
    "model.fit(X_train, y_train)\n",
    "y_pred = model.predict(X_test)"
   ]
  },
  {
   "cell_type": "markdown",
   "id": "f8d17cb9-fa00-455f-af8e-38d04672c663",
   "metadata": {},
   "source": [
    "## Plotting the regression line"
   ]
  },
  {
   "cell_type": "code",
   "execution_count": 78,
   "id": "0351fd9b-1a21-4f03-964a-592e8449a38e",
   "metadata": {},
   "outputs": [
    {
     "data": {
      "image/png": "[encoded data removed]",
      "text/plain": [
       "<Figure size 640x480 with 1 Axes>"
      ]
     },
     "metadata": {},
     "output_type": "display_data"
    }
   ],
   "source": [
    "plt.scatter(X_test, y_test, color='blue')\n",
    "plt.plot(X_test, y_pred, color='red', linewidth=2)\n",
    "plt.xlabel('Horsepower')\n",
    "plt.ylabel('MPG')\n",
    "plt.title('Horsepower vs MPG')\n",
    "plt.show()"
   ]
  },
  {
   "cell_type": "markdown",
   "id": "a0b3e204-b7cd-4843-b0ce-473478ad1115",
   "metadata": {},
   "source": [
    "# Evaluation Techniques"
   ]
  },
  {
   "cell_type": "markdown",
   "id": "96c25b98-9c12-4a9c-bf64-7570d7bfc174",
   "metadata": {},
   "source": [
    "## 1. Mean Absolute Error (MAE)\n",
    "* Measures the average magnitude of the errors in a set of predictions, without considering their direction. It's the average over the test sample of the absolute differences between prediction and actual observation."
   ]
  },
  {
   "cell_type": "code",
   "execution_count": 79,
   "id": "c57fd6a1-c55c-4c05-8bf0-17d93ccbefdb",
   "metadata": {},
   "outputs": [
    {
     "name": "stdout",
     "output_type": "stream",
     "text": [
      "Mean Absolute Error (MAE): 3.7825127101269604\n"
     ]
    }
   ],
   "source": [
    "mae = mean_absolute_error(y_test, y_pred)\n",
    "print(f\"Mean Absolute Error (MAE): {mae}\")"
   ]
  },
  {
   "cell_type": "markdown",
   "id": "d10618f4-4fe1-4fe1-b279-5d85722ea85b",
   "metadata": {},
   "source": [
    "## 2. Mean Squared Error (MSE)\n",
    "* Measures the average of the squares of the errors. It's more sensitive to outliers than MAE because it squares the error term."
   ]
  },
  {
   "cell_type": "code",
   "execution_count": 80,
   "id": "7962817a-b07c-4d9d-86fc-394af14d5f7a",
   "metadata": {},
   "outputs": [
    {
     "name": "stdout",
     "output_type": "stream",
     "text": [
      "Mean Squared Error (MSE): 22.153237123863413\n"
     ]
    }
   ],
   "source": [
    "mse = mean_squared_error(y_test, y_pred)\n",
    "print(f\"Mean Squared Error (MSE): {mse}\")"
   ]
  },
  {
   "cell_type": "markdown",
   "id": "f78e93b4-100d-442a-b148-ce60e2cfe104",
   "metadata": {},
   "source": [
    "## 3. Root Mean Squared Error (RMSE)\n",
    "* The square root of the mean of the squared errors. It provides an error estimate in the same units as the target variable, making it more interpretable."
   ]
  },
  {
   "cell_type": "code",
   "execution_count": 81,
   "id": "42e78ba7-4e36-417f-bc1d-80523576e3fd",
   "metadata": {},
   "outputs": [
    {
     "name": "stdout",
     "output_type": "stream",
     "text": [
      "Root Mean Squared Error (RMSE): 4.706722545876633\n"
     ]
    }
   ],
   "source": [
    "rmse = np.sqrt(mse)\n",
    "print(f\"Root Mean Squared Error (RMSE): {rmse}\")"
   ]
  },
  {
   "cell_type": "markdown",
   "id": "61b7d637-7727-4441-9f93-ced81b50a1ed",
   "metadata": {},
   "source": [
    "## 4. R-squared (R²)\n",
    "* Indicates the proportion of the variance in the dependent variable that is predictable from the independent variable(s). It ranges from 0 to 1, with higher values indicating better model fit."
   ]
  },
  {
   "cell_type": "code",
   "execution_count": 82,
   "id": "6b591212-3abf-4292-82b0-332b4c7749f6",
   "metadata": {},
   "outputs": [
    {
     "name": "stdout",
     "output_type": "stream",
     "text": [
      "R-squared (R²): 0.5659681822256184\n"
     ]
    }
   ],
   "source": [
    "r2 = r2_score(y_test, y_pred)\n",
    "print(f\"R-squared (R²): {r2}\")"
   ]
  },
  {
   "cell_type": "markdown",
   "id": "ff2b96a3-4eaf-44c6-88bd-206eb29b2d9d",
   "metadata": {},
   "source": [
    "## 5. Adjusted R-squared\n",
    "* Adjusts the R² value based on the number of predictors in the model. It accounts for the model complexity and provides a more accurate measure of model performance."
   ]
  },
  {
   "cell_type": "code",
   "execution_count": 83,
   "id": "f1a69020-d3a1-4f63-84d9-593dc6414bc8",
   "metadata": {},
   "outputs": [
    {
     "name": "stdout",
     "output_type": "stream",
     "text": [
      "Adjusted R-squared: 0.5603314053714057\n"
     ]
    }
   ],
   "source": [
    "n = len(y_test)\n",
    "p = X_test.shape[1]\n",
    "adjusted_r2 = 1 - (1 - r2) * (n - 1) / (n - p - 1)\n",
    "print(f\"Adjusted R-squared: {adjusted_r2}\")"
   ]
  },
  {
   "cell_type": "markdown",
   "id": "b15fb93a-ec56-4d0a-bc61-bbcdd0e59ea8",
   "metadata": {},
   "source": [
    "## 6. Mean Absolute Percentage Error (MAPE)\n",
    "* Measures the accuracy of a forecasting method in percentage terms. It's the mean of the absolute percentage errors of predictions."
   ]
  },
  {
   "cell_type": "code",
   "execution_count": 84,
   "id": "839b2222-3f1d-4c09-b53f-5c08c30a2748",
   "metadata": {},
   "outputs": [
    {
     "name": "stdout",
     "output_type": "stream",
     "text": [
      "Mean Absolute Percentage Error (MAPE): 18.363167675029874%\n"
     ]
    }
   ],
   "source": [
    "mape = np.mean(np.abs((y_test - y_pred) / y_test)) * 100\n",
    "print(f\"Mean Absolute Percentage Error (MAPE): {mape}%\")"
   ]
  },
  {
   "cell_type": "markdown",
   "id": "106f0461-b9cb-4cb1-9541-a0d03dcdf8f4",
   "metadata": {},
   "source": [
    "## 7. Median Absolute Error\n",
    "* Provides a robust measure of central tendency for errors. It's less influenced by outliers than MAE."
   ]
  },
  {
   "cell_type": "code",
   "execution_count": 85,
   "id": "9f52e5ff-b263-42e3-aa23-87f64ecb8860",
   "metadata": {},
   "outputs": [
    {
     "name": "stdout",
     "output_type": "stream",
     "text": [
      "Median Absolute Error: 3.2975401959501127\n"
     ]
    }
   ],
   "source": [
    "med_ae = median_absolute_error(y_test, y_pred)\n",
    "print(f\"Median Absolute Error: {med_ae}\")"
   ]
  }
 ],
 "metadata": {
  "kernelspec": {
   "display_name": "Python 3 (ipykernel)",
   "language": "python",
   "name": "python3"
  },
  "language_info": {
   "codemirror_mode": {
    "name": "ipython",
    "version": 3
   },
   "file_extension": ".py",
   "mimetype": "text/x-python",
   "name": "python",
   "nbconvert_exporter": "python",
   "pygments_lexer": "ipython3",
   "version": "3.11.7"
  }
 },
 "nbformat": 4,
 "nbformat_minor": 5
}
