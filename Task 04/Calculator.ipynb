{
 "cells": [
  {
   "cell_type": "code",
   "execution_count": 22,
   "id": "9bb5a808-b0a4-422f-a929-f7cf050eb2ff",
   "metadata": {},
   "outputs": [
    {
     "name": "stdin",
     "output_type": "stream",
     "text": [
      "Enter 1st operand:  21\n",
      "Enter 2nd operand:  4\n"
     ]
    }
   ],
   "source": [
    "number1 = float(input('Enter 1st operand: '))\n",
    "number2 = float(input('Enter 2nd operand: '))"
   ]
  },
  {
   "cell_type": "code",
   "execution_count": 23,
   "id": "51fa88da-148a-421c-bcc5-37709c7a9606",
   "metadata": {},
   "outputs": [
    {
     "name": "stdout",
     "output_type": "stream",
     "text": [
      "Choose an Operation\n",
      "1. Addition(+)\n",
      "2. Subtraction(-)\n",
      "3. Multiplication(*)\n",
      "4. Division(/)\n"
     ]
    },
    {
     "name": "stdin",
     "output_type": "stream",
     "text": [
      "Enter Operation number 4\n"
     ]
    }
   ],
   "source": [
    "print('Choose an Operation')\n",
    "print('1. Addition(+)')\n",
    "print('2. Subtraction(-)')\n",
    "print('3. Multiplication(*)')\n",
    "print('4. Division(/)')\n",
    "\n",
    "operation = input('Enter Operation number')"
   ]
  },
  {
   "cell_type": "code",
   "execution_count": 24,
   "id": "78684a73-2d64-437e-95f1-423dc95bffc7",
   "metadata": {},
   "outputs": [
    {
     "name": "stdout",
     "output_type": "stream",
     "text": [
      "5.25\n"
     ]
    }
   ],
   "source": [
    "if operation == '1':\n",
    "    result = number1 + number2\n",
    "    print(result)\n",
    "    \n",
    "elif operation == '2':\n",
    "    result = number1 - number2\n",
    "    print(result)\n",
    "    \n",
    "elif operation == '3':\n",
    "    result = number1 * number2\n",
    "    print(result)\n",
    "    \n",
    "elif operation == '4':\n",
    "    if number2 != 0:\n",
    "        result = number1 / number2\n",
    "        print(result)\n",
    "    else:\n",
    "        print('Division by zero is not allowed')\n",
    "\n",
    "else:\n",
    "    print('Invalid Operation')\n"
   ]
  }
 ],
 "metadata": {
  "kernelspec": {
   "display_name": "Python 3 (ipykernel)",
   "language": "python",
   "name": "python3"
  },
  "language_info": {
   "codemirror_mode": {
    "name": "ipython",
    "version": 3
   },
   "file_extension": ".py",
   "mimetype": "text/x-python",
   "name": "python",
   "nbconvert_exporter": "python",
   "pygments_lexer": "ipython3",
   "version": "3.11.7"
  }
 },
 "nbformat": 4,
 "nbformat_minor": 5
}
