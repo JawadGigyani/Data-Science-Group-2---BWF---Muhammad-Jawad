{
 "cells": [
  {
   "cell_type": "markdown",
   "id": "01d44919-064f-457f-a996-dd485512f6b0",
   "metadata": {},
   "source": [
    "## Rock, Paper, Scissors Game Mini Project"
   ]
  },
  {
   "cell_type": "code",
   "execution_count": 2,
   "id": "0c9b0d7a-ac97-4c3c-b75a-359f6c9db12f",
   "metadata": {},
   "outputs": [],
   "source": [
    "import random"
   ]
  },
  {
   "cell_type": "code",
   "execution_count": 14,
   "id": "a3165faf-6bf8-41dc-b9ba-3c869aad379a",
   "metadata": {},
   "outputs": [
    {
     "name": "stdout",
     "output_type": "stream",
     "text": [
      "Welcome to Rock, Paper, Scissors\n"
     ]
    },
    {
     "name": "stdin",
     "output_type": "stream",
     "text": [
      "Enter you choice (rock, paper, scissors):  PaPer\n"
     ]
    },
    {
     "name": "stdout",
     "output_type": "stream",
     "text": [
      "Computer chose: rock\n",
      "Hurray! You win\n"
     ]
    }
   ],
   "source": [
    "def rock_paper_scissors():\n",
    "    choices = ['rock', 'paper', 'scissors']\n",
    "    computer_choice = random.choice(choices)\n",
    "\n",
    "    print('Welcome to Rock, Paper, Scissors')\n",
    "    user_choice = input('Enter you choice (rock, paper, scissors): ').lower()\n",
    "\n",
    "    if user_choice not in choices:\n",
    "        print('Invalid choice. Try again')\n",
    "        return\n",
    "\n",
    "    print(f\"Computer chose: {computer_choice}\")\n",
    "\n",
    "    if user_choice == computer_choice:\n",
    "        print('It is a tie!. Try again')\n",
    "    elif (user_choice == 'rock' and computer_choice == 'scissors') or (user_choice == 'paper' and computer_choice == 'rock') or (user_choice == 'scissors' and computer_choice == 'paper'):\n",
    "        print('Hurray! You win')\n",
    "    else:\n",
    "        print('Bad Luck! You lose')\n",
    "\n",
    "rock_paper_scissors()\n"
   ]
  },
  {
   "cell_type": "markdown",
   "id": "c793ddca-7420-4fab-a648-207024e476f3",
   "metadata": {},
   "source": [
    "## Even or Odd Number Checking Mini Project"
   ]
  },
  {
   "cell_type": "code",
   "execution_count": 18,
   "id": "4be26b5e-b6b5-4dd5-9baf-b6be0da4fe89",
   "metadata": {},
   "outputs": [
    {
     "name": "stdin",
     "output_type": "stream",
     "text": [
      "Please enter a number:  13\n"
     ]
    },
    {
     "name": "stdout",
     "output_type": "stream",
     "text": [
      "13 is Odd.\n"
     ]
    }
   ],
   "source": [
    "def odd_or_even(num):\n",
    "    if number % 2 == 0:\n",
    "        return f'{number} is Even.'\n",
    "    else:\n",
    "        return f'{number} is Odd.'\n",
    "\n",
    "number = int(input('Please enter a number: '))\n",
    "result = odd_or_even(number)\n",
    "print(result)\n",
    "    "
   ]
  },
  {
   "cell_type": "markdown",
   "id": "58e37c79-f495-447d-a1d6-01648415dbcf",
   "metadata": {},
   "source": [
    "# Patterns"
   ]
  },
  {
   "cell_type": "code",
   "execution_count": 22,
   "id": "1a151e73-ef3d-4a59-83ff-e6a38f887219",
   "metadata": {},
   "outputs": [
    {
     "name": "stdout",
     "output_type": "stream",
     "text": [
      "* \n",
      "* * \n",
      "* * * \n",
      "* * * * \n",
      "* * * * * \n",
      "* * * * * * \n"
     ]
    }
   ],
   "source": [
    "def right_angle_trianle(rows):\n",
    "    for i in range(1, rows + 1):\n",
    "        print('* ' * i)\n",
    "\n",
    "right_angle_trianle(6)"
   ]
  },
  {
   "cell_type": "code",
   "execution_count": 11,
   "id": "0070aac7-585a-4b7b-89fd-23e898759aa3",
   "metadata": {},
   "outputs": [
    {
     "name": "stdout",
     "output_type": "stream",
     "text": [
      "1 \n",
      "2 3 \n",
      "4 5 6 \n",
      "7 8 9 10 \n",
      "11 12 13 14 15 \n"
     ]
    }
   ],
   "source": [
    "def num_right_angle_triangle(rows):\n",
    "    num = 1\n",
    "    for i in range(1, rows + 1):\n",
    "        for j in range(1, i + 1):\n",
    "            print(num, end=' ')\n",
    "            num += 1\n",
    "        print()\n",
    "\n",
    "num_right_angle_triangle(5)\n"
   ]
  },
  {
   "cell_type": "code",
   "execution_count": 5,
   "id": "4d650596-5c62-4b6e-9b80-f20e6f3e9570",
   "metadata": {},
   "outputs": [
    {
     "name": "stdout",
     "output_type": "stream",
     "text": [
      "    *\n",
      "   ***\n",
      "  *****\n",
      " *******\n",
      "*********\n"
     ]
    }
   ],
   "source": [
    "def pyramid(rows):\n",
    "    i = 0\n",
    "    while i < rows:\n",
    "        print(' ' * (rows - i - 1) + '*' * (2 * i + 1))\n",
    "        i += 1\n",
    "\n",
    "pyramid(5)"
   ]
  },
  {
   "cell_type": "code",
   "execution_count": 6,
   "id": "61676b11-7d17-4cbb-9eac-93278e76168b",
   "metadata": {},
   "outputs": [
    {
     "name": "stdout",
     "output_type": "stream",
     "text": [
      "*********\n",
      " *******\n",
      "  *****\n",
      "   ***\n",
      "    *\n"
     ]
    }
   ],
   "source": [
    "def inverted_pyramid(rows):\n",
    "    i = rows\n",
    "    while True:\n",
    "        print(' ' * (rows - i) + '*' * (2 * i - 1))\n",
    "        i -= 1\n",
    "        if i <= 0:\n",
    "            break\n",
    "\n",
    "inverted_pyramid(5)\n"
   ]
  },
  {
   "cell_type": "code",
   "execution_count": 10,
   "id": "2cf633f3-7b76-4441-9b4f-0dfe0d5ccd22",
   "metadata": {},
   "outputs": [
    {
     "name": "stdout",
     "output_type": "stream",
     "text": [
      "    *\n",
      "   ***\n",
      "  *****\n",
      " *******\n",
      "*********\n",
      " *******\n",
      "  *****\n",
      "   ***\n",
      "    *\n"
     ]
    }
   ],
   "source": [
    "def diamond(rows):\n",
    "    for i in range(rows):\n",
    "        print(' ' * (rows - i - 1) + '*' * (2 * i + 1))\n",
    "    for i in range(rows - 2, -1, -1):\n",
    "        print(' ' * (rows - i - 1) + '*' * (2 * i + 1))\n",
    "\n",
    "diamond(5)\n"
   ]
  },
  {
   "cell_type": "code",
   "execution_count": null,
   "id": "4a6486dc-9aae-4cdd-97f4-edf98e81d182",
   "metadata": {},
   "outputs": [],
   "source": []
  }
 ],
 "metadata": {
  "kernelspec": {
   "display_name": "Python 3 (ipykernel)",
   "language": "python",
   "name": "python3"
  },
  "language_info": {
   "codemirror_mode": {
    "name": "ipython",
    "version": 3
   },
   "file_extension": ".py",
   "mimetype": "text/x-python",
   "name": "python",
   "nbconvert_exporter": "python",
   "pygments_lexer": "ipython3",
   "version": "3.11.7"
  }
 },
 "nbformat": 4,
 "nbformat_minor": 5
}
