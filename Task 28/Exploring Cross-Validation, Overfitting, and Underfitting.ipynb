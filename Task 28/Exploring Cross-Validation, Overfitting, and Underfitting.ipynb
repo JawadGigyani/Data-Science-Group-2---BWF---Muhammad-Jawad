{
 "cells": [
  {
   "cell_type": "code",
   "execution_count": 1,
   "id": "dae05313-7b3a-418d-9d06-882f9a172dce",
   "metadata": {},
   "outputs": [],
   "source": [
    "import numpy as np\n",
    "import pandas as pd\n",
    "from sklearn.model_selection import train_test_split\n",
    "from sklearn.preprocessing import StandardScaler\n",
    "from sklearn.linear_model import LogisticRegression\n",
    "from sklearn.tree import DecisionTreeClassifier\n",
    "from sklearn.metrics import accuracy_score, classification_report, confusion_matrix, roc_auc_score, roc_curve\n",
    "import matplotlib.pyplot as plt\n",
    "import seaborn as sns"
   ]
  },
  {
   "cell_type": "markdown",
   "id": "805635e2-89f0-4a90-b021-44ee67b97263",
   "metadata": {},
   "source": [
    "## Loading the dataset"
   ]
  },
  {
   "cell_type": "code",
   "execution_count": 2,
   "id": "92fc64e6-85a4-4da7-bc0e-38d02c96860f",
   "metadata": {},
   "outputs": [],
   "source": [
    "url = 'https://archive.ics.uci.edu/ml/machine-learning-databases/wine-quality/winequality-red.csv'\n",
    "data = pd.read_csv(url, delimiter=';')"
   ]
  },
  {
   "cell_type": "markdown",
   "id": "aeef6d33-d8e5-446d-9bf1-223984c542f1",
   "metadata": {},
   "source": [
    "## Separating features and target"
   ]
  },
  {
   "cell_type": "code",
   "execution_count": 3,
   "id": "aa978fd7-9e7d-4133-893c-9588fe827ec7",
   "metadata": {},
   "outputs": [],
   "source": [
    "X = data.drop('quality', axis=1)\n",
    "y = data['quality'].apply(lambda x: 1 if x >= 6 else 0)  # Convert to binary classification (quality >= 6 is good)"
   ]
  },
  {
   "cell_type": "markdown",
   "id": "4fcd49fa-b2da-4f11-8097-d56d4952b37e",
   "metadata": {},
   "source": [
    "## Splitting the data into training and testing sets"
   ]
  },
  {
   "cell_type": "code",
   "execution_count": 4,
   "id": "6ecf955d-c0ca-401e-a46e-df9271cbcbbc",
   "metadata": {},
   "outputs": [],
   "source": [
    "X_train, X_test, y_train, y_test = train_test_split(X, y, test_size=0.2, random_state=42)"
   ]
  },
  {
   "cell_type": "markdown",
   "id": "a27d701d-2368-4ebf-bd5c-aa640c2768e8",
   "metadata": {},
   "source": [
    "## Standardizing the features"
   ]
  },
  {
   "cell_type": "code",
   "execution_count": 5,
   "id": "31e24b54-301d-403e-8364-c899e1441448",
   "metadata": {},
   "outputs": [],
   "source": [
    "scaler = StandardScaler()\n",
    "X_train = scaler.fit_transform(X_train)\n",
    "X_test = scaler.transform(X_test)"
   ]
  },
  {
   "cell_type": "markdown",
   "id": "47104050-a589-4f1d-a01f-5b78d531357f",
   "metadata": {},
   "source": [
    "# Cross-Validation\n",
    "* It is a technique used to assess the performance and generalization ability of a model by partitioning the dataset into multiple subsets or folds. The model is trained on some folds and tested on the remaining fold(s), and this process is repeated multiple times to ensure robust evaluation."
   ]
  },
  {
   "cell_type": "code",
   "execution_count": 6,
   "id": "96dfd170-a294-4c54-ada0-94bb55ae4bf0",
   "metadata": {},
   "outputs": [],
   "source": [
    "from sklearn.model_selection import cross_val_score"
   ]
  },
  {
   "cell_type": "markdown",
   "id": "146cec21-eaf8-4223-8f02-72742094f801",
   "metadata": {},
   "source": [
    "## Logistic Regression model"
   ]
  },
  {
   "cell_type": "code",
   "execution_count": 7,
   "id": "07ea3eeb-4bd7-4086-9960-026c1acaa43c",
   "metadata": {},
   "outputs": [],
   "source": [
    "log_reg = LogisticRegression(max_iter=200)"
   ]
  },
  {
   "cell_type": "code",
   "execution_count": 8,
   "id": "198baa16-f726-408a-a430-e2b25c2879a0",
   "metadata": {},
   "outputs": [
    {
     "name": "stdout",
     "output_type": "stream",
     "text": [
      "Logistic Regression Cross-Validation Accuracy: 0.74 ± 0.04\n"
     ]
    }
   ],
   "source": [
    "cv_scores_log_reg = cross_val_score(log_reg, X_train, y_train, cv=5)\n",
    "print(f\"Logistic Regression Cross-Validation Accuracy: {cv_scores_log_reg.mean():.2f} ± {cv_scores_log_reg.std():.2f}\")"
   ]
  },
  {
   "cell_type": "markdown",
   "id": "4d241059-3d54-41f8-8aa2-418d4a464729",
   "metadata": {},
   "source": [
    "## Decision Tree model"
   ]
  },
  {
   "cell_type": "code",
   "execution_count": 9,
   "id": "590e4978-c359-4cf4-954f-34b8e7f8fdbc",
   "metadata": {},
   "outputs": [],
   "source": [
    "dt = DecisionTreeClassifier()"
   ]
  },
  {
   "cell_type": "code",
   "execution_count": 10,
   "id": "9a04e6d4-0179-4e77-8d54-ec9382ef138d",
   "metadata": {},
   "outputs": [
    {
     "name": "stdout",
     "output_type": "stream",
     "text": [
      "Decision Tree Cross-Validation Accuracy: 0.74 ± 0.02\n"
     ]
    }
   ],
   "source": [
    "cv_scores_dt = cross_val_score(dt, X_train, y_train, cv=5)\n",
    "print(f\"Decision Tree Cross-Validation Accuracy: {cv_scores_dt.mean():.2f} ± {cv_scores_dt.std():.2f}\")"
   ]
  },
  {
   "cell_type": "markdown",
   "id": "f30f2678-70f7-4b7a-80f5-1488316f974a",
   "metadata": {},
   "source": [
    "# Overfitting\n",
    "* It occurs when a model learns the details and noise in the training data to the extent that it negatively impacts its performance on new, unseen data. Characteristics of overfitting include high accuracy on training data but poor accuracy on test data, and overly complex models that capture noise instead of underlying patterns."
   ]
  },
  {
   "cell_type": "markdown",
   "id": "00ee00ac-78f1-4fc5-9fbc-b8a728b862c9",
   "metadata": {},
   "source": [
    "## Train and evaluate Decision Tree model"
   ]
  },
  {
   "cell_type": "code",
   "execution_count": 11,
   "id": "de71bd24-592c-4657-bf05-c0621c4ae95d",
   "metadata": {},
   "outputs": [],
   "source": [
    "dt.fit(X_train, y_train)\n",
    "y_pred_dt = dt.predict(X_test)"
   ]
  },
  {
   "cell_type": "code",
   "execution_count": 14,
   "id": "5f21a072-2297-47ea-b886-367237646bdd",
   "metadata": {},
   "outputs": [
    {
     "name": "stdout",
     "output_type": "stream",
     "text": [
      "Decision Tree Test Accuracy: 0.72\n",
      "Decision Tree Classification Report:\n",
      "               precision    recall  f1-score   support\n",
      "\n",
      "           0       0.68      0.70      0.69       141\n",
      "           1       0.76      0.74      0.75       179\n",
      "\n",
      "    accuracy                           0.72       320\n",
      "   macro avg       0.72      0.72      0.72       320\n",
      "weighted avg       0.72      0.72      0.72       320\n",
      "\n"
     ]
    }
   ],
   "source": [
    "print(f\"Decision Tree Test Accuracy: {accuracy_score(y_test, y_pred_dt):.2f}\")\n",
    "print(\"Decision Tree Classification Report:\\n\", classification_report(y_test, y_pred_dt))"
   ]
  },
  {
   "cell_type": "markdown",
   "id": "ee90b0cd-2afa-4754-9885-f8de19b5a595",
   "metadata": {},
   "source": [
    "### Plotting the confusion matrix"
   ]
  },
  {
   "cell_type": "code",
   "execution_count": 13,
   "id": "39f25185-78aa-44a5-b873-5d3d0fd81491",
   "metadata": {},
   "outputs": [
    {
     "data": {
      "image/png": "[encoded data removed]",
      "text/plain": [
       "<Figure size 800x600 with 2 Axes>"
      ]
     },
     "metadata": {},
     "output_type": "display_data"
    }
   ],
   "source": [
    "conf_matrix_dt = confusion_matrix(y_test, y_pred_dt)\n",
    "plt.figure(figsize=(8, 6))\n",
    "sns.heatmap(conf_matrix_dt, annot=True, fmt='d', cmap='Blues')\n",
    "plt.xlabel('Predicted')\n",
    "plt.ylabel('Actual')\n",
    "plt.title('Decision Tree Confusion Matrix')\n",
    "plt.show()"
   ]
  },
  {
   "cell_type": "markdown",
   "id": "da5a9534-968a-401c-a392-5bb2660cefa7",
   "metadata": {},
   "source": [
    "# Underfitting\n",
    "* It occurs when a model is too simple to capture the underlying patterns in the data. Characteristics of underfitting include poor accuracy on both training and test data, and models that are too simplistic to learn from the data effectively."
   ]
  },
  {
   "cell_type": "markdown",
   "id": "87bf5930-5a44-405c-b4be-a831641b87b6",
   "metadata": {},
   "source": [
    "## Train and evaluate Logistic Regression model"
   ]
  },
  {
   "cell_type": "code",
   "execution_count": 15,
   "id": "08d8a284-450e-4676-94d7-fff2297ee70a",
   "metadata": {},
   "outputs": [],
   "source": [
    "log_reg.fit(X_train, y_train)\n",
    "y_pred_log_reg = log_reg.predict(X_test)"
   ]
  },
  {
   "cell_type": "code",
   "execution_count": 16,
   "id": "effee563-510e-4ec5-a412-27546f638155",
   "metadata": {},
   "outputs": [
    {
     "name": "stdout",
     "output_type": "stream",
     "text": [
      "Logistic Regression Test Accuracy: 0.74\n",
      "Logistic Regression Classification Report:\n",
      "               precision    recall  f1-score   support\n",
      "\n",
      "           0       0.69      0.74      0.72       141\n",
      "           1       0.79      0.74      0.76       179\n",
      "\n",
      "    accuracy                           0.74       320\n",
      "   macro avg       0.74      0.74      0.74       320\n",
      "weighted avg       0.74      0.74      0.74       320\n",
      "\n"
     ]
    }
   ],
   "source": [
    "print(f\"Logistic Regression Test Accuracy: {accuracy_score(y_test, y_pred_log_reg):.2f}\")\n",
    "print(\"Logistic Regression Classification Report:\\n\", classification_report(y_test, y_pred_log_reg))"
   ]
  },
  {
   "cell_type": "markdown",
   "id": "1b4519af-e344-48c3-b47c-a75cb709ac27",
   "metadata": {},
   "source": [
    "### Plotting the confusion matrix"
   ]
  },
  {
   "cell_type": "code",
   "execution_count": 17,
   "id": "a52b6032-7ddd-432d-ad44-48299867dcaa",
   "metadata": {},
   "outputs": [
    {
     "data": {
      "image/png": "[encoded data removed]",
      "text/plain": [
       "<Figure size 800x600 with 2 Axes>"
      ]
     },
     "metadata": {},
     "output_type": "display_data"
    }
   ],
   "source": [
    "conf_matrix_log_reg = confusion_matrix(y_test, y_pred_log_reg)\n",
    "plt.figure(figsize=(8, 6))\n",
    "sns.heatmap(conf_matrix_log_reg, annot=True, fmt='d', cmap='Blues')\n",
    "plt.xlabel('Predicted')\n",
    "plt.ylabel('Actual')\n",
    "plt.title('Logistic Regression Confusion Matrix')\n",
    "plt.show()"
   ]
  },
  {
   "cell_type": "code",
   "execution_count": null,
   "id": "a6c48ab8-2b12-4996-9ddd-9a7e779565d7",
   "metadata": {},
   "outputs": [],
   "source": []
  }
 ],
 "metadata": {
  "kernelspec": {
   "display_name": "Python 3 (ipykernel)",
   "language": "python",
   "name": "python3"
  },
  "language_info": {
   "codemirror_mode": {
    "name": "ipython",
    "version": 3
   },
   "file_extension": ".py",
   "mimetype": "text/x-python",
   "name": "python",
   "nbconvert_exporter": "python",
   "pygments_lexer": "ipython3",
   "version": "3.11.7"
  }
 },
 "nbformat": 4,
 "nbformat_minor": 5
}
