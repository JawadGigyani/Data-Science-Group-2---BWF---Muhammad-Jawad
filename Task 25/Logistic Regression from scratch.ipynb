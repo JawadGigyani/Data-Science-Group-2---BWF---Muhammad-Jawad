{
 "cells": [
  {
   "cell_type": "code",
   "execution_count": 27,
   "id": "76c219bf-510b-49b1-b8ad-635a90ba870f",
   "metadata": {},
   "outputs": [],
   "source": [
    "import numpy as np\n",
    "import pandas as pd\n",
    "from sklearn.model_selection import train_test_split\n",
    "from sklearn.preprocessing import StandardScaler\n",
    "from sklearn.datasets import load_iris"
   ]
  },
  {
   "cell_type": "markdown",
   "id": "7c170644-31e3-48fd-ace0-576dadb8c18f",
   "metadata": {},
   "source": [
    "## Load the Iris dataset"
   ]
  },
  {
   "cell_type": "code",
   "execution_count": 28,
   "id": "84735840-e001-4091-a7de-7a724cf0215e",
   "metadata": {},
   "outputs": [],
   "source": [
    "iris = load_iris()\n",
    "X = iris.data\n",
    "y = (iris.target == 2).astype(int)  "
   ]
  },
  {
   "cell_type": "markdown",
   "id": "e139f400-d38d-4dc1-93c7-8bc7f32cada2",
   "metadata": {},
   "source": [
    "## Split the data into training and testing sets"
   ]
  },
  {
   "cell_type": "code",
   "execution_count": 29,
   "id": "7a321ed3-df1f-4b68-a3a9-4ce3412b095a",
   "metadata": {},
   "outputs": [],
   "source": [
    "X_train, X_test, y_train, y_test = train_test_split(X, y, test_size=0.2, random_state=42)"
   ]
  },
  {
   "cell_type": "markdown",
   "id": "0985b4c7-0ac8-4bd6-883e-464b047f5306",
   "metadata": {},
   "source": [
    "## Standardize the features"
   ]
  },
  {
   "cell_type": "code",
   "execution_count": 30,
   "id": "c06ca136-7934-450e-971b-0bf24339abed",
   "metadata": {},
   "outputs": [],
   "source": [
    "scaler = StandardScaler()\n",
    "X_train = scaler.fit_transform(X_train)\n",
    "X_test = scaler.transform(X_test)"
   ]
  },
  {
   "cell_type": "markdown",
   "id": "27117cb2-59a3-4527-b2d0-9064254e5b9d",
   "metadata": {},
   "source": [
    "## Define Sigmoid function"
   ]
  },
  {
   "cell_type": "code",
   "execution_count": 31,
   "id": "df871989-38b4-43a0-b9d4-887a05ca990e",
   "metadata": {},
   "outputs": [],
   "source": [
    "def sigmoid(z):\n",
    "    return 1 / (1 + np.exp(-z))"
   ]
  },
  {
   "cell_type": "markdown",
   "id": "7a3ce0d1-d5d3-42c6-ba38-42f21793424a",
   "metadata": {},
   "source": [
    "## Initialize parameters"
   ]
  },
  {
   "cell_type": "code",
   "execution_count": 32,
   "id": "a4da1db1-00f8-4c00-afe1-07ee5e2b663a",
   "metadata": {},
   "outputs": [],
   "source": [
    "def initialize_parameters(n_features):\n",
    "    W = np.zeros(n_features)\n",
    "    b = 0\n",
    "    return W, b"
   ]
  },
  {
   "cell_type": "markdown",
   "id": "24927164-e43d-44d0-abec-8fb63b231fa3",
   "metadata": {},
   "source": [
    "## Cost function and gradient"
   ]
  },
  {
   "cell_type": "code",
   "execution_count": 33,
   "id": "cdd28cb1-c073-4e92-ab03-bb03f89a6262",
   "metadata": {},
   "outputs": [],
   "source": [
    "def compute_cost_and_gradient(X, y, W, b):\n",
    "    m = X.shape[0]\n",
    "    Z = np.dot(X, W) + b\n",
    "    A = sigmoid(Z)\n",
    "    cost = -1/m * np.sum(y * np.log(A) + (1 - y) * np.log(1 - A))\n",
    "    \n",
    "    dW = 1/m * np.dot(X.T, (A - y))\n",
    "    db = 1/m * np.sum(A - y)\n",
    "    \n",
    "    return cost, dW, db"
   ]
  },
  {
   "cell_type": "markdown",
   "id": "173dd428-a14c-4ca3-aecb-47bed6a1d7d1",
   "metadata": {},
   "source": [
    "## Gradient descent"
   ]
  },
  {
   "cell_type": "code",
   "execution_count": 34,
   "id": "311e62ec-445f-4189-8c6c-db09350060ee",
   "metadata": {},
   "outputs": [],
   "source": [
    "def gradient_descent(X, y, W, b, learning_rate, num_iterations):\n",
    "    costs = []\n",
    "    \n",
    "    for i in range(num_iterations):\n",
    "        cost, dW, db = compute_cost_and_gradient(X, y, W, b)\n",
    "        \n",
    "        W -= learning_rate * dW\n",
    "        b -= learning_rate * db\n",
    "        \n",
    "        if i % 100 == 0:\n",
    "            costs.append(cost)\n",
    "            print(f\"Iteration {i}: Cost {cost}\")\n",
    "    \n",
    "    return W, b, costs"
   ]
  },
  {
   "cell_type": "markdown",
   "id": "39ab88a1-1912-4bd3-b194-6f3ed87116be",
   "metadata": {},
   "source": [
    "## Training Model"
   ]
  },
  {
   "cell_type": "code",
   "execution_count": 35,
   "id": "e4eacc0e-710a-4cdd-adf5-d35d0fb0f6e7",
   "metadata": {},
   "outputs": [
    {
     "name": "stdout",
     "output_type": "stream",
     "text": [
      "Iteration 0: Cost 0.6931471805599453\n",
      "Iteration 100: Cost 0.49094880841785316\n",
      "Iteration 200: Cost 0.417169602305914\n",
      "Iteration 300: Cost 0.3783852860151332\n",
      "Iteration 400: Cost 0.35317376052816224\n",
      "Iteration 500: Cost 0.334771054343599\n",
      "Iteration 600: Cost 0.32040032958938186\n",
      "Iteration 700: Cost 0.308683543780605\n",
      "Iteration 800: Cost 0.2988382774470787\n",
      "Iteration 900: Cost 0.2903763088949027\n"
     ]
    }
   ],
   "source": [
    "n_features = X_train.shape[1]\n",
    "W, b = initialize_parameters(n_features)\n",
    "learning_rate = 0.01\n",
    "num_iterations = 1000\n",
    "\n",
    "W, b, costs = gradient_descent(X_train, y_train, W, b, learning_rate, num_iterations)"
   ]
  },
  {
   "cell_type": "markdown",
   "id": "ee6bf496-9256-4078-9ec6-6d4cbe483078",
   "metadata": {},
   "source": [
    "## Predictions"
   ]
  },
  {
   "cell_type": "code",
   "execution_count": 36,
   "id": "b5340bee-af1e-4727-a76a-836b1fc90b68",
   "metadata": {},
   "outputs": [],
   "source": [
    "def predict(X, W, b):\n",
    "    Z = np.dot(X, W) + b\n",
    "    A = sigmoid(Z)\n",
    "    return (A >= 0.5).astype(int)"
   ]
  },
  {
   "cell_type": "markdown",
   "id": "d76de1c9-f470-4b67-87f1-df846e61e798",
   "metadata": {},
   "source": [
    "## Evaluating the model"
   ]
  },
  {
   "cell_type": "code",
   "execution_count": 37,
   "id": "3a9928cd-1598-4380-bc8f-4bcfb9194877",
   "metadata": {},
   "outputs": [],
   "source": [
    "y_pred_train = predict(X_train, W, b)\n",
    "y_pred_test = predict(X_test, W, b)"
   ]
  },
  {
   "cell_type": "code",
   "execution_count": 38,
   "id": "069cba2a-7fc4-4d0b-8e2d-e65c9635bd0c",
   "metadata": {},
   "outputs": [],
   "source": [
    "train_accuracy = np.mean(y_pred_train == y_train) * 100\n",
    "test_accuracy = np.mean(y_pred_test == y_test) * 100"
   ]
  },
  {
   "cell_type": "code",
   "execution_count": 39,
   "id": "bd5f3e5c-914d-4dbd-92ac-3989f8ff6cc2",
   "metadata": {},
   "outputs": [
    {
     "name": "stdout",
     "output_type": "stream",
     "text": [
      "Training Accuracy: 87.50%\n",
      "Testing Accuracy: 93.33%\n"
     ]
    }
   ],
   "source": [
    "print(f\"Training Accuracy: {train_accuracy:.2f}%\")\n",
    "print(f\"Testing Accuracy: {test_accuracy:.2f}%\")"
   ]
  },
  {
   "cell_type": "code",
   "execution_count": null,
   "id": "0e31bf56-9bf2-4972-a192-41cdc37e18a6",
   "metadata": {},
   "outputs": [],
   "source": []
  },
  {
   "cell_type": "code",
   "execution_count": null,
   "id": "140e5c6a-e8d2-4c53-aae4-4d464daf924f",
   "metadata": {},
   "outputs": [],
   "source": []
  },
  {
   "cell_type": "code",
   "execution_count": null,
   "id": "abd4f11d-3eb2-40d0-8f57-abf1717887d8",
   "metadata": {},
   "outputs": [],
   "source": []
  },
  {
   "cell_type": "code",
   "execution_count": null,
   "id": "6a175c01-a784-4d94-8441-30a0e029bf53",
   "metadata": {},
   "outputs": [],
   "source": []
  },
  {
   "cell_type": "code",
   "execution_count": null,
   "id": "b150c255-1179-4b82-be00-c3098382dc7c",
   "metadata": {},
   "outputs": [],
   "source": []
  },
  {
   "cell_type": "code",
   "execution_count": null,
   "id": "1bbc9856-01f3-4bc0-b392-0e6e20c54070",
   "metadata": {},
   "outputs": [],
   "source": []
  },
  {
   "cell_type": "code",
   "execution_count": null,
   "id": "b9d98de3-279d-4ef5-b73f-ff51d40d1922",
   "metadata": {},
   "outputs": [],
   "source": []
  },
  {
   "cell_type": "code",
   "execution_count": null,
   "id": "b971aba1-156d-4f2f-9e3c-16afff1d9a53",
   "metadata": {},
   "outputs": [],
   "source": []
  },
  {
   "cell_type": "code",
   "execution_count": null,
   "id": "b8e8e8a8-4050-42db-afad-7164e7b70568",
   "metadata": {},
   "outputs": [],
   "source": []
  },
  {
   "cell_type": "code",
   "execution_count": null,
   "id": "74c8846c-8ca4-438f-a01b-367b283ac13d",
   "metadata": {},
   "outputs": [],
   "source": []
  }
 ],
 "metadata": {
  "kernelspec": {
   "display_name": "Python 3 (ipykernel)",
   "language": "python",
   "name": "python3"
  },
  "language_info": {
   "codemirror_mode": {
    "name": "ipython",
    "version": 3
   },
   "file_extension": ".py",
   "mimetype": "text/x-python",
   "name": "python",
   "nbconvert_exporter": "python",
   "pygments_lexer": "ipython3",
   "version": "3.11.7"
  }
 },
 "nbformat": 4,
 "nbformat_minor": 5
}
