{
 "cells": [
  {
   "cell_type": "markdown",
   "id": "5824af07-efdf-441f-be59-45fc124059b8",
   "metadata": {},
   "source": [
    "# Define Data Structures"
   ]
  },
  {
   "cell_type": "code",
   "execution_count": 57,
   "id": "420e1463-0c33-480a-80be-7d1c34a7a56d",
   "metadata": {},
   "outputs": [],
   "source": [
    "products = {}\n",
    "product_order = []\n",
    "categories = set()"
   ]
  },
  {
   "cell_type": "markdown",
   "id": "e8ac5c29-742e-4320-a828-495f8893fd1a",
   "metadata": {},
   "source": [
    "# Implement Functions"
   ]
  },
  {
   "cell_type": "markdown",
   "id": "705d7bc8-9088-4039-9a34-1b5cf501ce97",
   "metadata": {},
   "source": [
    "### Add a product"
   ]
  },
  {
   "cell_type": "code",
   "execution_count": 58,
   "id": "68980fb1-401c-427c-b7ac-b2d8311d53dd",
   "metadata": {},
   "outputs": [],
   "source": [
    "def add_product(product_id, name, category, stock):\n",
    "    # Define tuple for immutable product information\n",
    "    product_info = (name, category)\n",
    "    products[product_id] = {'info': product_info, 'stock': stock}\n",
    "    product_order.append(product_id)\n",
    "    categories.add(category)"
   ]
  },
  {
   "cell_type": "markdown",
   "id": "90eaa35d-7878-4417-b76f-5228a4d286e0",
   "metadata": {},
   "source": [
    "### Update stock"
   ]
  },
  {
   "cell_type": "code",
   "execution_count": 59,
   "id": "e1e9ccc6-558d-41fb-a43f-97636caf261b",
   "metadata": {},
   "outputs": [],
   "source": [
    "def update_stock(product_id, quantity):\n",
    "    if product_id in products:\n",
    "        products[product_id]['stock'] += quantity\n",
    "    else:\n",
    "        print(f\"Product ID {product_id} not found.\")"
   ]
  },
  {
   "cell_type": "markdown",
   "id": "53d19c02-5ba0-4c39-94f5-770971fc655d",
   "metadata": {},
   "source": [
    "### Display all products"
   ]
  },
  {
   "cell_type": "code",
   "execution_count": 60,
   "id": "7ffb5f40-8bc6-4f58-a8b9-b3031b8a53ea",
   "metadata": {},
   "outputs": [],
   "source": [
    "def display_products():\n",
    "    for product_id in product_order:\n",
    "        name, category = products[product_id]['info']\n",
    "        stock = products[product_id]['stock']\n",
    "        print(f\"ID: {product_id}, Name: {name}, Category: {category}, Stock: {stock}\")"
   ]
  },
  {
   "cell_type": "markdown",
   "id": "35db741b-38aa-4ed0-9082-c0b2e8f00cb9",
   "metadata": {},
   "source": [
    "### Display products by category"
   ]
  },
  {
   "cell_type": "code",
   "execution_count": 61,
   "id": "59f38882-b9cf-4dde-b6e7-eb92bcc47b7f",
   "metadata": {},
   "outputs": [],
   "source": [
    "def display_by_category(category):\n",
    "    for product_id in product_order:\n",
    "        name, product_category = products[product_id]['info']\n",
    "        if product_category == category:\n",
    "            stock = products[product_id]['stock']\n",
    "            print(f\"ID: {product_id}, Name: {name}, Category: {category}, Stock: {stock}\")"
   ]
  },
  {
   "cell_type": "markdown",
   "id": "acc624f3-c8fb-4961-b72c-56b9d2158b59",
   "metadata": {},
   "source": [
    "# Testing"
   ]
  },
  {
   "cell_type": "markdown",
   "id": "b55f208f-237d-4851-85f2-1fed3ee37fe1",
   "metadata": {},
   "source": [
    "### Add multiple products"
   ]
  },
  {
   "cell_type": "code",
   "execution_count": 62,
   "id": "2c13bb43-4f90-4685-90d6-06e7a9d44582",
   "metadata": {},
   "outputs": [],
   "source": [
    "add_product('SM001', 'iPhone 14', 'Smartphones', 25)\n",
    "add_product('SM002', 'Samsung Galaxy S22', 'Smartphones', 30)\n",
    "add_product('SM003', 'Google Pixel 7', 'Smartphones', 15)\n",
    "add_product('LP001', 'MacBook Air M2', 'Laptops', 10)\n",
    "add_product('LP002', 'Dell XPS 13', 'Laptops', 20)\n",
    "add_product('LP003', 'HP Spectre x360', 'Laptops', 18)\n",
    "add_product('AC001', 'Anker Power Bank', 'Accessories', 50)\n",
    "add_product('AC002', 'Apple AirPods Pro', 'Accessories', 35)\n",
    "add_product('AC003', 'Logitech MX Master 3', 'Accessories', 40)\n",
    "add_product('AC004', 'Samsung Galaxy Buds 2', 'Accessories', 25)"
   ]
  },
  {
   "cell_type": "markdown",
   "id": "9486e4f6-09e1-4a50-bddc-61942a66a1ce",
   "metadata": {},
   "source": [
    "### Display all products"
   ]
  },
  {
   "cell_type": "code",
   "execution_count": 63,
   "id": "40192ca1-f3e9-4ef0-ab6d-1e051ac8f3f2",
   "metadata": {},
   "outputs": [
    {
     "name": "stdout",
     "output_type": "stream",
     "text": [
      "All Products:\n",
      "ID: SM001, Name: iPhone 14, Category: Smartphones, Stock: 25\n",
      "ID: SM002, Name: Samsung Galaxy S22, Category: Smartphones, Stock: 30\n",
      "ID: SM003, Name: Google Pixel 7, Category: Smartphones, Stock: 15\n",
      "ID: LP001, Name: MacBook Air M2, Category: Laptops, Stock: 10\n",
      "ID: LP002, Name: Dell XPS 13, Category: Laptops, Stock: 20\n",
      "ID: LP003, Name: HP Spectre x360, Category: Laptops, Stock: 18\n",
      "ID: AC001, Name: Anker Power Bank, Category: Accessories, Stock: 50\n",
      "ID: AC002, Name: Apple AirPods Pro, Category: Accessories, Stock: 35\n",
      "ID: AC003, Name: Logitech MX Master 3, Category: Accessories, Stock: 40\n",
      "ID: AC004, Name: Samsung Galaxy Buds 2, Category: Accessories, Stock: 25\n"
     ]
    }
   ],
   "source": [
    "print(\"All Products:\")\n",
    "display_products()"
   ]
  },
  {
   "cell_type": "markdown",
   "id": "98228452-6696-4967-a5cc-abb58cd554b3",
   "metadata": {},
   "source": [
    "### Update stock levels."
   ]
  },
  {
   "cell_type": "code",
   "execution_count": 64,
   "id": "e92c89d7-9fac-4379-b51c-0af96b24c00f",
   "metadata": {},
   "outputs": [],
   "source": [
    "update_stock('SM001', 10)  \n",
    "update_stock('LP002', -5)  \n",
    "update_stock('AC003', 20)  "
   ]
  },
  {
   "cell_type": "markdown",
   "id": "40f43d08-f7ac-409c-97c3-b88593f86d3e",
   "metadata": {},
   "source": [
    "### Display all products"
   ]
  },
  {
   "cell_type": "code",
   "execution_count": 65,
   "id": "3585c99f-07bc-4a1f-b87e-28dee3552881",
   "metadata": {},
   "outputs": [
    {
     "name": "stdout",
     "output_type": "stream",
     "text": [
      "All Products:\n",
      "ID: SM001, Name: iPhone 14, Category: Smartphones, Stock: 35\n",
      "ID: SM002, Name: Samsung Galaxy S22, Category: Smartphones, Stock: 30\n",
      "ID: SM003, Name: Google Pixel 7, Category: Smartphones, Stock: 15\n",
      "ID: LP001, Name: MacBook Air M2, Category: Laptops, Stock: 10\n",
      "ID: LP002, Name: Dell XPS 13, Category: Laptops, Stock: 15\n",
      "ID: LP003, Name: HP Spectre x360, Category: Laptops, Stock: 18\n",
      "ID: AC001, Name: Anker Power Bank, Category: Accessories, Stock: 50\n",
      "ID: AC002, Name: Apple AirPods Pro, Category: Accessories, Stock: 35\n",
      "ID: AC003, Name: Logitech MX Master 3, Category: Accessories, Stock: 60\n",
      "ID: AC004, Name: Samsung Galaxy Buds 2, Category: Accessories, Stock: 25\n"
     ]
    }
   ],
   "source": [
    "print(\"All Products:\")\n",
    "display_products()"
   ]
  },
  {
   "cell_type": "markdown",
   "id": "2e25b7f4-68c1-46d7-bf91-2da4aaf3546b",
   "metadata": {},
   "source": [
    "### Display Products by Category"
   ]
  },
  {
   "cell_type": "code",
   "execution_count": 66,
   "id": "17b60aec-1d59-4ba5-aaf5-03dbc4a3c9ce",
   "metadata": {},
   "outputs": [
    {
     "name": "stdout",
     "output_type": "stream",
     "text": [
      "\n",
      "Products in Smartphones:\n",
      "ID: SM001, Name: iPhone 14, Category: Smartphones, Stock: 35\n",
      "ID: SM002, Name: Samsung Galaxy S22, Category: Smartphones, Stock: 30\n",
      "ID: SM003, Name: Google Pixel 7, Category: Smartphones, Stock: 15\n",
      "\n",
      "Products in Laptops:\n",
      "ID: LP001, Name: MacBook Air M2, Category: Laptops, Stock: 10\n",
      "ID: LP002, Name: Dell XPS 13, Category: Laptops, Stock: 15\n",
      "ID: LP003, Name: HP Spectre x360, Category: Laptops, Stock: 18\n",
      "\n",
      "Products in Accessories:\n",
      "ID: AC001, Name: Anker Power Bank, Category: Accessories, Stock: 50\n",
      "ID: AC002, Name: Apple AirPods Pro, Category: Accessories, Stock: 35\n",
      "ID: AC003, Name: Logitech MX Master 3, Category: Accessories, Stock: 60\n",
      "ID: AC004, Name: Samsung Galaxy Buds 2, Category: Accessories, Stock: 25\n"
     ]
    }
   ],
   "source": [
    "print(\"\\nProducts in Smartphones:\")\n",
    "display_by_category('Smartphones')\n",
    "\n",
    "print(\"\\nProducts in Laptops:\")\n",
    "display_by_category('Laptops')\n",
    "\n",
    "print(\"\\nProducts in Accessories:\")\n",
    "display_by_category('Accessories')"
   ]
  },
  {
   "cell_type": "code",
   "execution_count": null,
   "id": "4e3a2883-727b-4fcc-817a-d4e3ab02146e",
   "metadata": {},
   "outputs": [],
   "source": []
  }
 ],
 "metadata": {
  "kernelspec": {
   "display_name": "Python 3 (ipykernel)",
   "language": "python",
   "name": "python3"
  },
  "language_info": {
   "codemirror_mode": {
    "name": "ipython",
    "version": 3
   },
   "file_extension": ".py",
   "mimetype": "text/x-python",
   "name": "python",
   "nbconvert_exporter": "python",
   "pygments_lexer": "ipython3",
   "version": "3.11.7"
  }
 },
 "nbformat": 4,
 "nbformat_minor": 5
}
