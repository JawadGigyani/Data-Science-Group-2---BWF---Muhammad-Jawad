{
 "cells": [
  {
   "cell_type": "markdown",
   "id": "47c08eca-fc5b-47a0-b381-5898b7523ff3",
   "metadata": {},
   "source": [
    "# Book Class"
   ]
  },
  {
   "cell_type": "code",
   "execution_count": 324,
   "id": "bc2e783e-17ca-4ac9-905e-80957846cb38",
   "metadata": {},
   "outputs": [],
   "source": [
    "class Book:\n",
    "    def __init__(self, title, author, ISBN):\n",
    "        self.title = title\n",
    "        self.author = author\n",
    "        self.ISBN = ISBN\n",
    "        self.status = \"available\"\n",
    "\n",
    "    def display_info(self):\n",
    "        print(f\"\\nTitle: {self.title}\\nauthor: {self.author}\\nISBN: {self.ISBN}\\nStatus: {self.status}\")\n",
    "\n",
    "    def mark_as_borrowed(self):\n",
    "        self.status = \"borrowed\"\n",
    "\n",
    "    def mark_as_returned(self):\n",
    "        self.status = \"available\""
   ]
  },
  {
   "cell_type": "markdown",
   "id": "7f555013-b584-4850-8e30-0122cf145634",
   "metadata": {},
   "source": [
    "# Member Class"
   ]
  },
  {
   "cell_type": "code",
   "execution_count": 325,
   "id": "b322c40b-e098-47f4-a292-b046285aaa5c",
   "metadata": {},
   "outputs": [],
   "source": [
    "class Member:\n",
    "    def __init__(self, name, member_id):\n",
    "        self.name = name\n",
    "        self.member_id = member_id\n",
    "        self.borrowed_books = []\n",
    "\n",
    "    def borrow_book(self, book):\n",
    "        if book.status == 'available':\n",
    "            book.mark_as_borrowed()\n",
    "            self.borrowed_books.append(book)\n",
    "            print(f\"{self.name} borrowed {book.title}\")\n",
    "        else:\n",
    "            print(f\"{book.title} is unavailable right now!\")\n",
    "\n",
    "    def return_book(self, book):\n",
    "        if book.status == 'borrowed':\n",
    "            book.mark_as_returned\n",
    "            self.borrowed_books.remove(book)\n",
    "            print(f\"{self.name} returned {book.title}\")\n",
    "        else:\n",
    "            print(f\"{self.name} does not have the book {book.title}\")\n",
    "\n",
    "    def display_info(self):\n",
    "        print(f\"\\nName: {self.name}\\nMember ID: {self.member_id}\\nBorrowed Books: {[book.title for book in self.borrowed_books]}\")"
   ]
  },
  {
   "cell_type": "markdown",
   "id": "4eab2e28-9406-47c5-93c8-93377d60e15b",
   "metadata": {},
   "source": [
    "# Library Class"
   ]
  },
  {
   "cell_type": "code",
   "execution_count": 326,
   "id": "473da698-005e-49f9-840b-16e608fff285",
   "metadata": {},
   "outputs": [],
   "source": [
    "class Library:\n",
    "    def __init__(self):\n",
    "        self.list_of_books = []\n",
    "        self.list_of_members = []\n",
    "\n",
    "    \n",
    "    def add_book(self, book):\n",
    "        self.list_of_books.append(book)\n",
    "        print(f\"Added Book: {book.title}\")\n",
    "\n",
    "    \n",
    "    def register_member(self, member):\n",
    "        self.list_of_members.append(member)\n",
    "        print(f\"Registered Member: {member.name}\")\n",
    "\n",
    "    \n",
    "    def issue_book(self, member_id, ISBN):\n",
    "        member = None\n",
    "        book = None\n",
    "\n",
    "        for m in self.list_of_members:\n",
    "            if m.member_id == member_id:\n",
    "                member = m\n",
    "                break\n",
    "\n",
    "        for b in self.list_of_books:\n",
    "            if b.ISBN == ISBN:\n",
    "                book = b\n",
    "                break\n",
    "\n",
    "        if member and book:\n",
    "            member.borrow_book(book)\n",
    "        else:\n",
    "            print(\"Invalid member ID or book ISBN.\")\n",
    "\n",
    "\n",
    "    def return_book(self, member_id, ISBN):\n",
    "        member = None\n",
    "        book = None\n",
    "        for m in self.list_of_members:\n",
    "            if m.member_id == member_id:\n",
    "                member = m\n",
    "                break\n",
    "        for b in self.list_of_books:\n",
    "            if b.ISBN == ISBN:\n",
    "                book = b\n",
    "                break\n",
    "        if member and book:\n",
    "            member.return_book(book)\n",
    "        else:\n",
    "            print(\"Invalid member ID or book ISBN.\")\n",
    "\n",
    "\n",
    "    def display_books(self):\n",
    "        for book in self.list_of_books:\n",
    "            book.display_info()\n",
    "\n",
    "\n",
    "    def display_members(self):\n",
    "        for member in self.list_of_members:\n",
    "            member.display_info()"
   ]
  },
  {
   "cell_type": "markdown",
   "id": "c07a1f4c-b5a1-485b-8b3b-9cd5a21b31eb",
   "metadata": {},
   "source": [
    "# Library Object"
   ]
  },
  {
   "cell_type": "code",
   "execution_count": 327,
   "id": "64e4a8be-7fab-4636-a692-7924bfdbf268",
   "metadata": {},
   "outputs": [],
   "source": [
    "library = Library()"
   ]
  },
  {
   "cell_type": "markdown",
   "id": "ed3c3c24-4f40-418c-b984-1984bd4179e3",
   "metadata": {},
   "source": [
    "## Add books to the library"
   ]
  },
  {
   "cell_type": "code",
   "execution_count": 328,
   "id": "6fc6c851-451b-4f0b-99b5-486bd272e18c",
   "metadata": {},
   "outputs": [
    {
     "name": "stdout",
     "output_type": "stream",
     "text": [
      "Added Book: Atomic Habits\n",
      "Added Book: 1984\n",
      "Added Book: Men Are from Mars, Women Are from Venus\n",
      "Added Book: Linchpin: Are You Indispensable?\n",
      "Added Book: Freedom at Midnight\n",
      "Added Book: Factfulness: Ten Reasons We're Wrong About the World – and Why Things Are Better Than You Think\n",
      "Added Book: The Reconstruction of Religious Thought in Islam\n",
      "Added Book: Mindset: The New Psychology of Success\n",
      "Added Book: The Second Sex\n",
      "Added Book: The Laws of Human Nature\n",
      "Added Book: The 48 Laws of Power\n",
      "Added Book: The murder of history\n",
      "Added Book: The Forty Rules of Love\n",
      "Added Book: The Bastard of Istanbul\n",
      "Added Book: Beyond Good and Evil: Prelude to a Philosophy of the Future\n"
     ]
    }
   ],
   "source": [
    "books = [\n",
    "    Book(\"Atomic Habits\", \"James Clear\", \"1234567890\"),\n",
    "    Book(\"1984\", \"George Orwell\", \"1234567891\"),\n",
    "    Book(\"Men Are from Mars, Women Are from Venus\", \"John Gray\", \"1234567892\"),\n",
    "    Book(\"Linchpin: Are You Indispensable?\", \"Seth Godin\", \"1234567893\"),\n",
    "    Book(\"Freedom at Midnight\", \"Dominique Lapierre and Larry Collins\", \"1234567894\"),\n",
    "    Book(\"Factfulness: Ten Reasons We're Wrong About the World – and Why Things Are Better Than You Think\", \"Hans Rosling\", \"1234567895\"),\n",
    "    Book(\"The Reconstruction of Religious Thought in Islam\", \"Mohammad Iqbal\", \"1234567896\"),\n",
    "    Book(\"Mindset: The New Psychology of Success\", \"Carol Dweck\", \"1234567897\"),\n",
    "    Book(\"The Second Sex\", \"Simone de Beauvoir\", \"1234567898\"),\n",
    "    Book(\"The Laws of Human Nature\", \"Robert Greene\", \"1234567899\"),\n",
    "    Book(\"The 48 Laws of Power\", \"Robert Greene\", \"12345678910\"),\n",
    "    Book(\"The murder of history\", \"Khursheed Kamal Aziz\", \"12345678911\"),\n",
    "    Book(\"The Forty Rules of Love\", \"Elif Shafak\", \"12345678912\"),\n",
    "    Book(\"The Bastard of Istanbul\", \"Elif Shafak\", \"12345678913\"),\n",
    "    Book(\"Beyond Good and Evil: Prelude to a Philosophy of the Future\", \"Friedrich Nietzsche\", \"12345678914\"),\n",
    "]\n",
    "\n",
    "for book in books:\n",
    "    library.add_book(book)"
   ]
  },
  {
   "cell_type": "markdown",
   "id": "0e5017a4-fee2-492e-94ab-81c91e6b8616",
   "metadata": {},
   "source": [
    "## Register members"
   ]
  },
  {
   "cell_type": "code",
   "execution_count": 329,
   "id": "37cd588f-1763-48dd-9584-24460f9db7fd",
   "metadata": {},
   "outputs": [
    {
     "name": "stdout",
     "output_type": "stream",
     "text": [
      "Registered Member: Jawad\n",
      "Registered Member: Hamad\n",
      "Registered Member: Ali\n",
      "Registered Member: Harum\n",
      "Registered Member: Maryam\n"
     ]
    }
   ],
   "source": [
    "members = [\n",
    "    Member(\"Jawad\", \"M001\"),\n",
    "    Member(\"Hamad\", \"M002\"),\n",
    "    Member(\"Ali\", \"M003\"),\n",
    "    Member(\"Harum\", \"M004\"),\n",
    "    Member(\"Maryam\", \"M005\")\n",
    "]\n",
    "\n",
    "for member in members:\n",
    "    library.register_member(member)"
   ]
  },
  {
   "cell_type": "markdown",
   "id": "77d30856-a129-4976-a202-9215ff36be86",
   "metadata": {},
   "source": [
    "## Display all books"
   ]
  },
  {
   "cell_type": "code",
   "execution_count": 330,
   "id": "d010dd10-167c-4916-bead-1ae1a50c420e",
   "metadata": {},
   "outputs": [
    {
     "name": "stdout",
     "output_type": "stream",
     "text": [
      "\n",
      "All books in the library:\n",
      "\n",
      "Title: Atomic Habits\n",
      "author: James Clear\n",
      "ISBN: 1234567890\n",
      "Status: available\n",
      "\n",
      "Title: 1984\n",
      "author: George Orwell\n",
      "ISBN: 1234567891\n",
      "Status: available\n",
      "\n",
      "Title: Men Are from Mars, Women Are from Venus\n",
      "author: John Gray\n",
      "ISBN: 1234567892\n",
      "Status: available\n",
      "\n",
      "Title: Linchpin: Are You Indispensable?\n",
      "author: Seth Godin\n",
      "ISBN: 1234567893\n",
      "Status: available\n",
      "\n",
      "Title: Freedom at Midnight\n",
      "author: Dominique Lapierre and Larry Collins\n",
      "ISBN: 1234567894\n",
      "Status: available\n",
      "\n",
      "Title: Factfulness: Ten Reasons We're Wrong About the World – and Why Things Are Better Than You Think\n",
      "author: Hans Rosling\n",
      "ISBN: 1234567895\n",
      "Status: available\n",
      "\n",
      "Title: The Reconstruction of Religious Thought in Islam\n",
      "author: Mohammad Iqbal\n",
      "ISBN: 1234567896\n",
      "Status: available\n",
      "\n",
      "Title: Mindset: The New Psychology of Success\n",
      "author: Carol Dweck\n",
      "ISBN: 1234567897\n",
      "Status: available\n",
      "\n",
      "Title: The Second Sex\n",
      "author: Simone de Beauvoir\n",
      "ISBN: 1234567898\n",
      "Status: available\n",
      "\n",
      "Title: The Laws of Human Nature\n",
      "author: Robert Greene\n",
      "ISBN: 1234567899\n",
      "Status: available\n",
      "\n",
      "Title: The 48 Laws of Power\n",
      "author: Robert Greene\n",
      "ISBN: 12345678910\n",
      "Status: available\n",
      "\n",
      "Title: The murder of history\n",
      "author: Khursheed Kamal Aziz\n",
      "ISBN: 12345678911\n",
      "Status: available\n",
      "\n",
      "Title: The Forty Rules of Love\n",
      "author: Elif Shafak\n",
      "ISBN: 12345678912\n",
      "Status: available\n",
      "\n",
      "Title: The Bastard of Istanbul\n",
      "author: Elif Shafak\n",
      "ISBN: 12345678913\n",
      "Status: available\n",
      "\n",
      "Title: Beyond Good and Evil: Prelude to a Philosophy of the Future\n",
      "author: Friedrich Nietzsche\n",
      "ISBN: 12345678914\n",
      "Status: available\n"
     ]
    }
   ],
   "source": [
    "print(\"\\nAll books in the library:\")\n",
    "library.display_books()"
   ]
  },
  {
   "cell_type": "markdown",
   "id": "f578c548-aeac-41a6-81d0-82f14d859501",
   "metadata": {},
   "source": [
    "## Display all members"
   ]
  },
  {
   "cell_type": "code",
   "execution_count": 331,
   "id": "3e4652d5-701c-45d4-8eb7-1ca32bdd7e41",
   "metadata": {},
   "outputs": [
    {
     "name": "stdout",
     "output_type": "stream",
     "text": [
      "\n",
      "All members in the library:\n",
      "\n",
      "Name: Jawad\n",
      "Member ID: M001\n",
      "Borrowed Books: []\n",
      "\n",
      "Name: Hamad\n",
      "Member ID: M002\n",
      "Borrowed Books: []\n",
      "\n",
      "Name: Ali\n",
      "Member ID: M003\n",
      "Borrowed Books: []\n",
      "\n",
      "Name: Harum\n",
      "Member ID: M004\n",
      "Borrowed Books: []\n",
      "\n",
      "Name: Maryam\n",
      "Member ID: M005\n",
      "Borrowed Books: []\n"
     ]
    }
   ],
   "source": [
    "print(\"\\nAll members in the library:\")\n",
    "library.display_members()"
   ]
  },
  {
   "cell_type": "markdown",
   "id": "55c883af-465f-4d2e-8def-eb2e156860fa",
   "metadata": {},
   "source": [
    "## Issue books to members"
   ]
  },
  {
   "cell_type": "code",
   "execution_count": 332,
   "id": "5753ca6c-501f-4749-9040-31452077ebe0",
   "metadata": {},
   "outputs": [
    {
     "name": "stdout",
     "output_type": "stream",
     "text": [
      "Jawad borrowed Men Are from Mars, Women Are from Venus\n",
      "Jawad borrowed Linchpin: Are You Indispensable?\n",
      "Jawad borrowed Freedom at Midnight\n",
      "Harum borrowed Atomic Habits\n",
      "Harum borrowed 1984\n",
      "Hamad borrowed Factfulness: Ten Reasons We're Wrong About the World – and Why Things Are Better Than You Think\n",
      "Ali borrowed The Reconstruction of Religious Thought in Islam\n",
      "Ali borrowed Mindset: The New Psychology of Success\n",
      "Maryam borrowed The Laws of Human Nature\n"
     ]
    }
   ],
   "source": [
    "library.issue_book(\"M001\", \"1234567892\")\n",
    "library.issue_book(\"M001\", \"1234567893\")\n",
    "library.issue_book(\"M001\", \"1234567894\")\n",
    "library.issue_book(\"M004\", \"1234567890\")\n",
    "library.issue_book(\"M004\", \"1234567891\")\n",
    "library.issue_book(\"M002\", \"1234567895\")\n",
    "library.issue_book(\"M003\", \"1234567896\")\n",
    "library.issue_book(\"M003\", \"1234567897\")\n",
    "library.issue_book(\"M005\", \"1234567899\")"
   ]
  },
  {
   "cell_type": "markdown",
   "id": "504bb1ce-eb01-4e45-aca2-5cbb39381433",
   "metadata": {},
   "source": [
    "## Display all members after issuing books"
   ]
  },
  {
   "cell_type": "code",
   "execution_count": 333,
   "id": "81c4476b-9d0e-4125-b923-5ce945d0de63",
   "metadata": {},
   "outputs": [
    {
     "name": "stdout",
     "output_type": "stream",
     "text": [
      "All members in the library:\n",
      "\n",
      "Name: Jawad\n",
      "Member ID: M001\n",
      "Borrowed Books: ['Men Are from Mars, Women Are from Venus', 'Linchpin: Are You Indispensable?', 'Freedom at Midnight']\n",
      "\n",
      "Name: Hamad\n",
      "Member ID: M002\n",
      "Borrowed Books: [\"Factfulness: Ten Reasons We're Wrong About the World – and Why Things Are Better Than You Think\"]\n",
      "\n",
      "Name: Ali\n",
      "Member ID: M003\n",
      "Borrowed Books: ['The Reconstruction of Religious Thought in Islam', 'Mindset: The New Psychology of Success']\n",
      "\n",
      "Name: Harum\n",
      "Member ID: M004\n",
      "Borrowed Books: ['Atomic Habits', '1984']\n",
      "\n",
      "Name: Maryam\n",
      "Member ID: M005\n",
      "Borrowed Books: ['The Laws of Human Nature']\n"
     ]
    }
   ],
   "source": [
    "print(\"All members in the library:\")\n",
    "library.display_members()"
   ]
  },
  {
   "cell_type": "markdown",
   "id": "6143bc12-ccab-4b25-a582-56839e59de8b",
   "metadata": {},
   "source": [
    "## Attempt to issue the same book again"
   ]
  },
  {
   "cell_type": "code",
   "execution_count": 334,
   "id": "ea066046-21ac-414e-9a4e-0591fd0db35b",
   "metadata": {},
   "outputs": [
    {
     "name": "stdout",
     "output_type": "stream",
     "text": [
      "Atomic Habits is unavailable right now!\n"
     ]
    }
   ],
   "source": [
    "library.issue_book(\"M002\", \"1234567890\")"
   ]
  },
  {
   "cell_type": "markdown",
   "id": "c2235785-5b22-43ca-80e4-0869675c3233",
   "metadata": {},
   "source": [
    "## Return the book"
   ]
  },
  {
   "cell_type": "code",
   "execution_count": 335,
   "id": "eabd0dbc-4fd9-423e-a9dd-1494f9b7bc64",
   "metadata": {},
   "outputs": [
    {
     "name": "stdout",
     "output_type": "stream",
     "text": [
      "Jawad returned Linchpin: Are You Indispensable?\n",
      "Maryam returned The Laws of Human Nature\n"
     ]
    }
   ],
   "source": [
    "library.return_book(\"M001\", \"1234567893\")\n",
    "library.return_book(\"M005\", \"1234567899\")"
   ]
  },
  {
   "cell_type": "markdown",
   "id": "7eacff69-a6d0-4146-9cf2-7866700eb54d",
   "metadata": {},
   "source": [
    "## Display all books after transactions"
   ]
  },
  {
   "cell_type": "code",
   "execution_count": 336,
   "id": "69605f83-1e9b-4726-8e10-96256676d431",
   "metadata": {},
   "outputs": [
    {
     "name": "stdout",
     "output_type": "stream",
     "text": [
      "All books in the library after transactions:\n",
      "\n",
      "Title: Atomic Habits\n",
      "author: James Clear\n",
      "ISBN: 1234567890\n",
      "Status: borrowed\n",
      "\n",
      "Title: 1984\n",
      "author: George Orwell\n",
      "ISBN: 1234567891\n",
      "Status: borrowed\n",
      "\n",
      "Title: Men Are from Mars, Women Are from Venus\n",
      "author: John Gray\n",
      "ISBN: 1234567892\n",
      "Status: borrowed\n",
      "\n",
      "Title: Linchpin: Are You Indispensable?\n",
      "author: Seth Godin\n",
      "ISBN: 1234567893\n",
      "Status: borrowed\n",
      "\n",
      "Title: Freedom at Midnight\n",
      "author: Dominique Lapierre and Larry Collins\n",
      "ISBN: 1234567894\n",
      "Status: borrowed\n",
      "\n",
      "Title: Factfulness: Ten Reasons We're Wrong About the World – and Why Things Are Better Than You Think\n",
      "author: Hans Rosling\n",
      "ISBN: 1234567895\n",
      "Status: borrowed\n",
      "\n",
      "Title: The Reconstruction of Religious Thought in Islam\n",
      "author: Mohammad Iqbal\n",
      "ISBN: 1234567896\n",
      "Status: borrowed\n",
      "\n",
      "Title: Mindset: The New Psychology of Success\n",
      "author: Carol Dweck\n",
      "ISBN: 1234567897\n",
      "Status: borrowed\n",
      "\n",
      "Title: The Second Sex\n",
      "author: Simone de Beauvoir\n",
      "ISBN: 1234567898\n",
      "Status: available\n",
      "\n",
      "Title: The Laws of Human Nature\n",
      "author: Robert Greene\n",
      "ISBN: 1234567899\n",
      "Status: borrowed\n",
      "\n",
      "Title: The 48 Laws of Power\n",
      "author: Robert Greene\n",
      "ISBN: 12345678910\n",
      "Status: available\n",
      "\n",
      "Title: The murder of history\n",
      "author: Khursheed Kamal Aziz\n",
      "ISBN: 12345678911\n",
      "Status: available\n",
      "\n",
      "Title: The Forty Rules of Love\n",
      "author: Elif Shafak\n",
      "ISBN: 12345678912\n",
      "Status: available\n",
      "\n",
      "Title: The Bastard of Istanbul\n",
      "author: Elif Shafak\n",
      "ISBN: 12345678913\n",
      "Status: available\n",
      "\n",
      "Title: Beyond Good and Evil: Prelude to a Philosophy of the Future\n",
      "author: Friedrich Nietzsche\n",
      "ISBN: 12345678914\n",
      "Status: available\n"
     ]
    }
   ],
   "source": [
    "print(\"All books in the library after transactions:\")\n",
    "library.display_books()"
   ]
  },
  {
   "cell_type": "markdown",
   "id": "7dead6d8-41b7-4459-8859-7fb46c884561",
   "metadata": {},
   "source": [
    "## Display all members after transactions"
   ]
  },
  {
   "cell_type": "code",
   "execution_count": 337,
   "id": "d6437294-753e-4a31-9c45-b1c9a2391acd",
   "metadata": {},
   "outputs": [
    {
     "name": "stdout",
     "output_type": "stream",
     "text": [
      "All members in the library after transactions:\n",
      "\n",
      "Name: Jawad\n",
      "Member ID: M001\n",
      "Borrowed Books: ['Men Are from Mars, Women Are from Venus', 'Freedom at Midnight']\n",
      "\n",
      "Name: Hamad\n",
      "Member ID: M002\n",
      "Borrowed Books: [\"Factfulness: Ten Reasons We're Wrong About the World – and Why Things Are Better Than You Think\"]\n",
      "\n",
      "Name: Ali\n",
      "Member ID: M003\n",
      "Borrowed Books: ['The Reconstruction of Religious Thought in Islam', 'Mindset: The New Psychology of Success']\n",
      "\n",
      "Name: Harum\n",
      "Member ID: M004\n",
      "Borrowed Books: ['Atomic Habits', '1984']\n",
      "\n",
      "Name: Maryam\n",
      "Member ID: M005\n",
      "Borrowed Books: []\n"
     ]
    }
   ],
   "source": [
    "print(\"All members in the library after transactions:\")\n",
    "library.display_members()"
   ]
  },
  {
   "cell_type": "code",
   "execution_count": null,
   "id": "ef6928f3-93f6-42df-b2fb-e165b1c70780",
   "metadata": {},
   "outputs": [],
   "source": []
  }
 ],
 "metadata": {
  "kernelspec": {
   "display_name": "Python 3 (ipykernel)",
   "language": "python",
   "name": "python3"
  },
  "language_info": {
   "codemirror_mode": {
    "name": "ipython",
    "version": 3
   },
   "file_extension": ".py",
   "mimetype": "text/x-python",
   "name": "python",
   "nbconvert_exporter": "python",
   "pygments_lexer": "ipython3",
   "version": "3.11.7"
  }
 },
 "nbformat": 4,
 "nbformat_minor": 5
}
